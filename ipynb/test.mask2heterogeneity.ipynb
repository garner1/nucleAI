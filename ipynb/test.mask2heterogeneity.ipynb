{
 "cells": [
  {
   "cell_type": "code",
   "execution_count": 1,
   "metadata": {},
   "outputs": [],
   "source": [
    "import sys  \n",
    "sys.path.insert(0, '../py')\n",
    "from graviti import *\n",
    "\n",
    "from numpy.linalg import norm\n",
    "import numpy as np\n",
    "import os\n",
    "import os.path\n",
    "from os import path\n",
    "import sys\n",
    "import glob\n",
    "import h5py\n",
    "import seaborn as sns\n",
    "import matplotlib.pyplot as plt\n",
    "import matplotlib\n",
    "#matplotlib.use('Agg')\n",
    "import plotly.graph_objects as go\n",
    "from plotly.graph_objs import *\n",
    "import plotly.express as px\n",
    "import hdbscan\n",
    "import pandas as pd\n",
    "import umap\n",
    "import networkx as nx\n",
    "from scipy import sparse, linalg\n",
    "import pickle\n",
    "from sklearn.preprocessing import normalize, scale\n",
    "from scipy.sparse import find\n",
    "from numpy.linalg import norm\n",
    "import timeit\n",
    "import multiprocessing\n",
    "from joblib import Parallel, delayed\n",
    "from datetime import datetime\n",
    "from tqdm import tqdm\n",
    "\n",
    "import warnings\n",
    "warnings.filterwarnings('ignore')\n",
    "\n",
    "from sklearn.neighbors import KDTree\n",
    "from sklearn.neighbors import NearestNeighbors"
   ]
  },
  {
   "cell_type": "code",
   "execution_count": 2,
   "metadata": {},
   "outputs": [],
   "source": [
    "size = 0 # number of nuclei to sample, use 0 value for full set\n",
    "nn = 10 # set the number of nearest neighbor in the umap-graph. Will be used in CovD as well"
   ]
  },
  {
   "cell_type": "code",
   "execution_count": 3,
   "metadata": {},
   "outputs": [],
   "source": [
    "samples = glob.glob('../data/TCGA*.gz')    "
   ]
  },
  {
   "cell_type": "code",
   "execution_count": 4,
   "metadata": {},
   "outputs": [],
   "source": [
    "# Get numb of cores\n",
    "num_cores = multiprocessing.cpu_count() # numb of cores"
   ]
  },
  {
   "cell_type": "code",
   "execution_count": 5,
   "metadata": {
    "scrolled": true
   },
   "outputs": [
    {
     "name": "stdout",
     "output_type": "stream",
     "text": [
      "TCGA-MP-A4TJ-01Z-00-DX1\n",
      "Loading the data\n",
      "With 9492 nuclei\n",
      "Considering all nuclei\n",
      "Creating the UMAP graph\n"
     ]
    },
    {
     "name": "stderr",
     "output_type": "stream",
     "text": [
      "\r",
      "  0%|          | 0/9492 [00:00<?, ?it/s]"
     ]
    },
    {
     "name": "stdout",
     "output_type": "stream",
     "text": [
      "Finding the neighborhood of the sampled nodes\n",
      "Generating the descriptor\n"
     ]
    },
    {
     "name": "stderr",
     "output_type": "stream",
     "text": [
      "100%|██████████| 9492/9492 [00:06<00:00, 1554.84it/s]\n",
      "  0%|          | 0/9492 [00:00<?, ?it/s]"
     ]
    },
    {
     "name": "stdout",
     "output_type": "stream",
     "text": [
      "Generating the diversity index\n"
     ]
    },
    {
     "name": "stderr",
     "output_type": "stream",
     "text": [
      "100%|██████████| 9492/9492 [00:07<00:00, 1322.37it/s]\n",
      "  0%|          | 0/9492 [00:00<?, ?it/s]"
     ]
    },
    {
     "name": "stdout",
     "output_type": "stream",
     "text": [
      "Generating the edge diversity index\n"
     ]
    },
    {
     "name": "stderr",
     "output_type": "stream",
     "text": [
      "100%|██████████| 9492/9492 [00:15<00:00, 604.33it/s]\n"
     ]
    }
   ],
   "source": [
    "for dirpath in samples[:1]: # for each sample\n",
    "    sample = os.path.basename(dirpath).split(sep='.')[0]; print(sample)\n",
    "\n",
    "    print('Loading the data')\n",
    "    df = pd.DataFrame()\n",
    "    fovs = glob.glob(dirpath+'/*_polygon/*.svs/*.pkl')\n",
    "    for fov in fovs[:2]: # for each fov\n",
    "        data = pd.read_pickle(fov)\n",
    "        df = df.append(data, ignore_index = True)\n",
    "        #print(df.shape)\n",
    "\n",
    "    df['area'] = df['area'].astype(float)\n",
    "    \n",
    "    print('With '+str(df.shape[0])+' nuclei')\n",
    "    \n",
    "    centroids = df.columns[:2];# print(centroids)\n",
    "\n",
    "    if size == 0:\n",
    "        print('Considering all nuclei')\n",
    "        fdf = df \n",
    "    else:\n",
    "        print('Downsampling '+str(size)+' nuclei')\n",
    "        fdf = df.sample(n=size) \n",
    "    pos = fdf[centroids].to_numpy() # Get the positions of centroids \n",
    "    \n",
    "    print('Creating the UMAP graph')\n",
    "    A = space2graph(pos,nn)\n",
    "    \n",
    "    print('Finding the neighborhood of the sampled nodes')\n",
    "    X = df[centroids].to_numpy() # the full array of position\n",
    "    if size is not 0:\n",
    "        n_neighbors = df.shape[0]//size + 10\n",
    "    else:\n",
    "        n_neighbors = 10    \n",
    "    nbrs = NearestNeighbors(n_neighbors=n_neighbors, algorithm='kd_tree',n_jobs=-1).fit(X) \n",
    "    distances, indices = nbrs.kneighbors(X) \n",
    "\n",
    "    #get the morphological data and rescale the data by std \n",
    "    df['area_rescaled'] = df['area'] / df['area'].mean()\n",
    "    df['perimeter_rescaled'] = df['perimeter'] / df['perimeter'].mean()\n",
    "    features = ['area_rescaled', 'eccentricity', 'orientation','perimeter_rescaled', 'solidity']\n",
    "\n",
    "    data = df[features].to_numpy()\n",
    "    \n",
    "    # Parallel generation of the local covd\n",
    "    print('Generating the descriptor')\n",
    "    processed_list = Parallel(n_jobs=num_cores)(\n",
    "        delayed(covd_parallel_sparse)(node,data,indices) for node in tqdm(list(fdf.index))\n",
    "                                                   )    \n",
    "    # Construct the descriptor array\n",
    "    descriptor = np.zeros((len(processed_list),processed_list[0][1].shape[0]))\n",
    "    for r in range(len(processed_list)):\n",
    "        descriptor[r,:] = processed_list[r][1] # covd descriptors of the connected nodes\n",
    "        \n",
    "    # Get info about the graph\n",
    "    row_idx, col_idx, values = find(A) #A.nonzero() # nonzero entries\n",
    "    print('Generating the diversity index')\n",
    "    node_nn_diversity_weights = Parallel(n_jobs=num_cores)(delayed(covd_gradient_parallel)(node,descriptor,row_idx,col_idx,values) for node in tqdm(range(descriptor.shape[0])))\n",
    "    \n",
    "    # save dataframe with pairwise diversities\n",
    "    heterogeneity_df = pd.DataFrame(node_nn_diversity_weights, columns =['node', 'nn', 'diversity', 'weight']) \n",
    "    filename = './'+str(sample)+'.size'+str(size)+'.graphNN'+str(nn)+'.covdNN'+str(n_neighbors)+'.heterogeneity.pkl'\n",
    "    fdf.to_pickle(filename)\n",
    "\n",
    "    # if you don't consider spatial weights:\n",
    "    fdf['diversity'] = [np.sum(node_nn_diversity_weights[node][2]) for node in range(descriptor.shape[0])]\n",
    "    # if you consider spatial weights:\n",
    "    #fdf['diversity'] = [np.dot(node_nn_diversity_weights[node][2],node_nn_diversity_weights[node][3])[0] for node in range(descriptor.shape[0])]\n",
    "    \n",
    "    filename = './'+str(sample)+'.size'+str(size)+'.graphNN'+str(nn)+'.covdNN'+str(n_neighbors)+'.nodeHI.pkl'\n",
    "    fdf.to_pickle(filename)\n",
    "\n",
    "    print('Generating the edge diversity index')\n",
    "    #edges_list = Parallel(n_jobs=num_cores)(delayed(edge_diversity_parallel)(node,neightbors,diversity,fdf) for (node, neightbors, diversity) in tqdm(node_nn_diversity))\n",
    "    edges_list = Parallel(n_jobs=num_cores)(\n",
    "        delayed(edge_diversity_parallel)(node,neightbors,diversity,fdf) \n",
    "                               for (node, neightbors, diversity, weights) in tqdm(node_nn_diversity_weights)\n",
    "    )\n",
    "    edge_list = [item for sublist in edges_list for item in sublist]\n",
    "    edge_df = pd.DataFrame(edge_list, columns=[\"centroid_x\", \"centroid_y\",\"diversity\"]) \n",
    "    filename = './'+str(sample)+'.size'+str(size)+'.graphNN'+str(nn)+'.covdNN'+str(n_neighbors)+'.edgeHI.pkl'\n",
    "    edge_df.to_pickle(filename)"
   ]
  },
  {
   "cell_type": "code",
   "execution_count": 24,
   "metadata": {
    "scrolled": false
   },
   "outputs": [
    {
     "data": {
      "image/png": "[encoded data removed]",
      "text/plain": [
       "<Figure size 432x288 with 1 Axes>"
      ]
     },
     "metadata": {},
     "output_type": "display_data"
    },
    {
     "data": {
      "image/png": "[encoded data removed]",
      "text/plain": [
       "<Figure size 432x288 with 1 Axes>"
      ]
     },
     "metadata": {},
     "output_type": "display_data"
    }
   ],
   "source": [
    "import seaborn as sns; sns.set()\n",
    "import matplotlib.pyplot as plt\n",
    "for ind in range(2):\n",
    "    ax = sns.scatterplot(x=heterogeneity_df['diversity'][ind][0], y=heterogeneity_df['weight'][ind])\n",
    "    plt.show()"
   ]
  },
  {
   "cell_type": "code",
   "execution_count": 10,
   "metadata": {},
   "outputs": [],
   "source": [
    "#Show contour plot\n",
    "N = 200\n",
    "filename = 'test'\n",
    "contourPlot(fdf,N,np.mean,filename)"
   ]
  },
  {
   "cell_type": "code",
   "execution_count": 8,
   "metadata": {},
   "outputs": [],
   "source": [
    "#Show contour plot\n",
    "N = 200\n",
    "filename = 'test'\n",
    "contourPlot(edge_df,N,np.sum,filename)"
   ]
  }
 ],
 "metadata": {
  "kernelspec": {
   "display_name": "Python 3",
   "language": "python",
   "name": "python3"
  },
  "language_info": {
   "codemirror_mode": {
    "name": "ipython",
    "version": 3
   },
   "file_extension": ".py",
   "mimetype": "text/x-python",
   "name": "python",
   "nbconvert_exporter": "python",
   "pygments_lexer": "ipython3",
   "version": "3.7.4"
  }
 },
 "nbformat": 4,
 "nbformat_minor": 2
}
