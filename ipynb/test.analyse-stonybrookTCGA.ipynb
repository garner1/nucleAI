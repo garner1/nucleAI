{
 "cells": [
  {
   "cell_type": "code",
   "execution_count": null,
   "metadata": {},
   "outputs": [],
   "source": [
    "import sys  \n",
    "sys.path.insert(0, '../py')\n",
    "from graviti import *\n",
    "\n",
    "import json\n",
    "import numpy as np\n",
    "from skimage.draw import polygon\n",
    "from skimage import io\n",
    "from matplotlib import pyplot as plt\n",
    "import glob\n",
    "import pandas as pd\n",
    "import os\n",
    "from scipy.sparse import coo_matrix\n",
    "from skimage.measure import label, regionprops#, regionprops_table\n",
    "import math\n",
    "\n",
    "import timeit\n",
    "import multiprocessing\n",
    "from joblib import Parallel, delayed\n",
    "from datetime import datetime\n",
    "from tqdm import tqdm"
   ]
  },
  {
   "cell_type": "code",
   "execution_count": null,
   "metadata": {},
   "outputs": [],
   "source": [
    "samples = glob.glob('/media/garner1/hdd2/TCGA_polygons/luad/*.gz')\n",
    "print('There are '+str(len(samples))+' samples')"
   ]
  },
  {
   "cell_type": "code",
   "execution_count": null,
   "metadata": {
    "scrolled": false
   },
   "outputs": [],
   "source": [
    "for sample in samples[:]:\n",
    "    data = pd.DataFrame()\n",
    "    fovs = glob.glob(sample+'/*/*.svs/*.pkl')\n",
    "    for fov in fovs:\n",
    "        df = pd.read_pickle(fov)\n",
    "        data = data.append(df, ignore_index = True)\n",
    "    data['area'] = data['area'].astype(float)\n",
    "    print(sample)\n",
    "    print(data.shape)    \n",
    "    hist = data[data['area']<2000].hist(figsize=(10,10))\n",
    "    plt.show()"
   ]
  },
  {
   "cell_type": "code",
   "execution_count": null,
   "metadata": {},
   "outputs": [],
   "source": []
  }
 ],
 "metadata": {
  "kernelspec": {
   "display_name": "Python 3",
   "language": "python",
   "name": "python3"
  },
  "language_info": {
   "codemirror_mode": {
    "name": "ipython",
    "version": 3
   },
   "file_extension": ".py",
   "mimetype": "text/x-python",
   "name": "python",
   "nbconvert_exporter": "python",
   "pygments_lexer": "ipython3",
   "version": "3.7.3"
  }
 },
 "nbformat": 4,
 "nbformat_minor": 2
}
