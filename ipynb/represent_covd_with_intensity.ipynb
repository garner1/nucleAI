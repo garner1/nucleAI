{
 "cells": [
  {
   "cell_type": "code",
   "execution_count": 2,
   "metadata": {},
   "outputs": [],
   "source": [
    "from __future__ import print_function\n",
    "\n",
    "from matplotlib import pyplot as plt\n",
    "import matplotlib.patches as mpatches\n",
    "%matplotlib inline"
   ]
  },
  {
   "cell_type": "code",
   "execution_count": 3,
   "metadata": {},
   "outputs": [],
   "source": [
    "import sys\n",
    "sys.path.insert(0, '../py')\n",
    "from graviti import *"
   ]
  },
  {
   "cell_type": "code",
   "execution_count": 4,
   "metadata": {},
   "outputs": [],
   "source": [
    "import numpy as np\n",
    "import scipy as sp\n",
    "from scipy.sparse import coo_matrix\n",
    "import scipy.ndimage as ndi\n",
    "\n",
    "from skimage.draw import polygon\n",
    "from skimage import io\n",
    "from skimage.measure import label, regionprops\n",
    "import skimage.io\n",
    "import skimage.measure\n",
    "import skimage.color\n",
    "\n",
    "import glob\n",
    "import pickle\n",
    "import pandas as pd\n",
    "import os\n",
    "import timeit\n",
    "import random\n",
    "\n",
    "import pyvips"
   ]
  },
  {
   "cell_type": "code",
   "execution_count": 5,
   "metadata": {},
   "outputs": [],
   "source": [
    "import timeit\n",
    "import multiprocessing\n",
    "from joblib import Parallel, delayed\n",
    "from datetime import datetime\n",
    "from tqdm import tqdm"
   ]
  },
  {
   "cell_type": "code",
   "execution_count": 27,
   "metadata": {},
   "outputs": [],
   "source": [
    "import umap\n",
    "import seaborn as sns; sns.set()"
   ]
  },
  {
   "cell_type": "code",
   "execution_count": 29,
   "metadata": {},
   "outputs": [],
   "source": [
    "patches = glob.glob('/home/garner1/pipelines/nucleAI/data/TCGA-A2-A0CK-01Z-00-DX1/*.pkl')"
   ]
  },
  {
   "cell_type": "code",
   "execution_count": 30,
   "metadata": {},
   "outputs": [
    {
     "name": "stdout",
     "output_type": "stream",
     "text": [
      "/home/garner1/pipelines/nucleAI/data/TCGA-A2-A0CK-01Z-00-DX1/52001_36001_4000_4000_0.2456_1-features.csv.intensity_features.pkl\n",
      "/home/garner1/pipelines/nucleAI/data/TCGA-A2-A0CK-01Z-00-DX1/32001_44001_4000_4000_0.2456_1-features.csv.intensity_features.pkl\n",
      "/home/garner1/pipelines/nucleAI/data/TCGA-A2-A0CK-01Z-00-DX1/12001_16001_4000_4000_0.2456_1-features.csv.intensity_features.pkl\n",
      "/home/garner1/pipelines/nucleAI/data/TCGA-A2-A0CK-01Z-00-DX1/44001_16001_4000_4000_0.2456_1-features.csv.intensity_features.pkl\n",
      "/home/garner1/pipelines/nucleAI/data/TCGA-A2-A0CK-01Z-00-DX1/40001_24001_4000_4000_0.2456_1-features.csv.intensity_features.pkl\n",
      "/home/garner1/pipelines/nucleAI/data/TCGA-A2-A0CK-01Z-00-DX1/32001_36001_4000_4000_0.2456_1-features.csv.intensity_features.pkl\n",
      "/home/garner1/pipelines/nucleAI/data/TCGA-A2-A0CK-01Z-00-DX1/28001_12001_4000_4000_0.2456_1-features.csv.intensity_features.pkl\n",
      "/home/garner1/pipelines/nucleAI/data/TCGA-A2-A0CK-01Z-00-DX1/12001_36001_4000_4000_0.2456_1-features.csv.intensity_features.pkl\n",
      "/home/garner1/pipelines/nucleAI/data/TCGA-A2-A0CK-01Z-00-DX1/48001_48001_4000_4000_0.2456_1-features.csv.intensity_features.pkl\n",
      "/home/garner1/pipelines/nucleAI/data/TCGA-A2-A0CK-01Z-00-DX1/4001_44001_4000_4000_0.2456_1-features.csv.intensity_features.pkl\n",
      "/home/garner1/pipelines/nucleAI/data/TCGA-A2-A0CK-01Z-00-DX1/28001_24001_4000_4000_0.2456_1-features.csv.intensity_features.pkl\n",
      "/home/garner1/pipelines/nucleAI/data/TCGA-A2-A0CK-01Z-00-DX1/20001_20001_4000_4000_0.2456_1-features.csv.intensity_features.pkl\n",
      "/home/garner1/pipelines/nucleAI/data/TCGA-A2-A0CK-01Z-00-DX1/60001_28001_4000_4000_0.2456_1-features.csv.intensity_features.pkl\n",
      "/home/garner1/pipelines/nucleAI/data/TCGA-A2-A0CK-01Z-00-DX1/8001_4001_4000_4000_0.2456_1-features.csv.intensity_features.pkl\n",
      "/home/garner1/pipelines/nucleAI/data/TCGA-A2-A0CK-01Z-00-DX1/24001_12001_4000_4000_0.2456_1-features.csv.intensity_features.pkl\n",
      "/home/garner1/pipelines/nucleAI/data/TCGA-A2-A0CK-01Z-00-DX1/52001_24001_4000_4000_0.2456_1-features.csv.intensity_features.pkl\n",
      "/home/garner1/pipelines/nucleAI/data/TCGA-A2-A0CK-01Z-00-DX1/24001_48001_4000_4000_0.2456_1-features.csv.intensity_features.pkl\n",
      "/home/garner1/pipelines/nucleAI/data/TCGA-A2-A0CK-01Z-00-DX1/24001_16001_4000_4000_0.2456_1-features.csv.intensity_features.pkl\n",
      "/home/garner1/pipelines/nucleAI/data/TCGA-A2-A0CK-01Z-00-DX1/36001_48001_4000_4000_0.2456_1-features.csv.intensity_features.pkl\n",
      "/home/garner1/pipelines/nucleAI/data/TCGA-A2-A0CK-01Z-00-DX1/20001_36001_4000_4000_0.2456_1-features.csv.intensity_features.pkl\n",
      "/home/garner1/pipelines/nucleAI/data/TCGA-A2-A0CK-01Z-00-DX1/28001_28001_4000_4000_0.2456_1-features.csv.intensity_features.pkl\n",
      "/home/garner1/pipelines/nucleAI/data/TCGA-A2-A0CK-01Z-00-DX1/16001_44001_4000_4000_0.2456_1-features.csv.intensity_features.pkl\n",
      "/home/garner1/pipelines/nucleAI/data/TCGA-A2-A0CK-01Z-00-DX1/56001_24001_4000_4000_0.2456_1-features.csv.intensity_features.pkl\n",
      "/home/garner1/pipelines/nucleAI/data/TCGA-A2-A0CK-01Z-00-DX1/40001_28001_4000_4000_0.2456_1-features.csv.intensity_features.pkl\n",
      "/home/garner1/pipelines/nucleAI/data/TCGA-A2-A0CK-01Z-00-DX1/40001_16001_4000_4000_0.2456_1-features.csv.intensity_features.pkl\n",
      "/home/garner1/pipelines/nucleAI/data/TCGA-A2-A0CK-01Z-00-DX1/48001_40001_4000_4000_0.2456_1-features.csv.intensity_features.pkl\n",
      "/home/garner1/pipelines/nucleAI/data/TCGA-A2-A0CK-01Z-00-DX1/8001_28001_4000_4000_0.2456_1-features.csv.intensity_features.pkl\n",
      "/home/garner1/pipelines/nucleAI/data/TCGA-A2-A0CK-01Z-00-DX1/28001_32001_4000_4000_0.2456_1-features.csv.intensity_features.pkl\n",
      "/home/garner1/pipelines/nucleAI/data/TCGA-A2-A0CK-01Z-00-DX1/36001_20001_4000_4000_0.2456_1-features.csv.intensity_features.pkl\n",
      "/home/garner1/pipelines/nucleAI/data/TCGA-A2-A0CK-01Z-00-DX1/16001_12001_4000_4000_0.2456_1-features.csv.intensity_features.pkl\n",
      "/home/garner1/pipelines/nucleAI/data/TCGA-A2-A0CK-01Z-00-DX1/36001_44001_4000_4000_0.2456_1-features.csv.intensity_features.pkl\n",
      "/home/garner1/pipelines/nucleAI/data/TCGA-A2-A0CK-01Z-00-DX1/44001_36001_4000_4000_0.2456_1-features.csv.intensity_features.pkl\n",
      "/home/garner1/pipelines/nucleAI/data/TCGA-A2-A0CK-01Z-00-DX1/40001_48001_4000_4000_0.2456_1-features.csv.intensity_features.pkl\n",
      "/home/garner1/pipelines/nucleAI/data/TCGA-A2-A0CK-01Z-00-DX1/4001_20001_4000_4000_0.2456_1-features.csv.intensity_features.pkl\n",
      "/home/garner1/pipelines/nucleAI/data/TCGA-A2-A0CK-01Z-00-DX1/20001_32001_4000_4000_0.2456_1-features.csv.intensity_features.pkl\n",
      "/home/garner1/pipelines/nucleAI/data/TCGA-A2-A0CK-01Z-00-DX1/28001_20001_4000_4000_0.2456_1-features.csv.intensity_features.pkl\n",
      "/home/garner1/pipelines/nucleAI/data/TCGA-A2-A0CK-01Z-00-DX1/32001_28001_4000_4000_0.2456_1-features.csv.intensity_features.pkl\n",
      "/home/garner1/pipelines/nucleAI/data/TCGA-A2-A0CK-01Z-00-DX1/8001_8001_4000_4000_0.2456_1-features.csv.intensity_features.pkl\n",
      "/home/garner1/pipelines/nucleAI/data/TCGA-A2-A0CK-01Z-00-DX1/32001_24001_4000_4000_0.2456_1-features.csv.intensity_features.pkl\n",
      "/home/garner1/pipelines/nucleAI/data/TCGA-A2-A0CK-01Z-00-DX1/12001_12001_4000_4000_0.2456_1-features.csv.intensity_features.pkl\n",
      "/home/garner1/pipelines/nucleAI/data/TCGA-A2-A0CK-01Z-00-DX1/28001_36001_4000_4000_0.2456_1-features.csv.intensity_features.pkl\n",
      "/home/garner1/pipelines/nucleAI/data/TCGA-A2-A0CK-01Z-00-DX1/24001_28001_4000_4000_0.2456_1-features.csv.intensity_features.pkl\n",
      "/home/garner1/pipelines/nucleAI/data/TCGA-A2-A0CK-01Z-00-DX1/8001_24001_4000_4000_0.2456_1-features.csv.intensity_features.pkl\n",
      "/home/garner1/pipelines/nucleAI/data/TCGA-A2-A0CK-01Z-00-DX1/12001_4001_4000_4000_0.2456_1-features.csv.intensity_features.pkl\n",
      "/home/garner1/pipelines/nucleAI/data/TCGA-A2-A0CK-01Z-00-DX1/20001_28001_4000_4000_0.2456_1-features.csv.intensity_features.pkl\n",
      "/home/garner1/pipelines/nucleAI/data/TCGA-A2-A0CK-01Z-00-DX1/20001_16001_4000_4000_0.2456_1-features.csv.intensity_features.pkl\n",
      "/home/garner1/pipelines/nucleAI/data/TCGA-A2-A0CK-01Z-00-DX1/48001_24001_4000_4000_0.2456_1-features.csv.intensity_features.pkl\n",
      "/home/garner1/pipelines/nucleAI/data/TCGA-A2-A0CK-01Z-00-DX1/48001_44001_4000_4000_0.2456_1-features.csv.intensity_features.pkl\n",
      "/home/garner1/pipelines/nucleAI/data/TCGA-A2-A0CK-01Z-00-DX1/32001_32001_4000_4000_0.2456_1-features.csv.intensity_features.pkl\n",
      "/home/garner1/pipelines/nucleAI/data/TCGA-A2-A0CK-01Z-00-DX1/40001_40001_4000_4000_0.2456_1-features.csv.intensity_features.pkl\n",
      "/home/garner1/pipelines/nucleAI/data/TCGA-A2-A0CK-01Z-00-DX1/52001_16001_4000_4000_0.2456_1-features.csv.intensity_features.pkl\n",
      "/home/garner1/pipelines/nucleAI/data/TCGA-A2-A0CK-01Z-00-DX1/24001_44001_4000_4000_0.2456_1-features.csv.intensity_features.pkl\n",
      "/home/garner1/pipelines/nucleAI/data/TCGA-A2-A0CK-01Z-00-DX1/56001_32001_4000_4000_0.2456_1-features.csv.intensity_features.pkl\n",
      "/home/garner1/pipelines/nucleAI/data/TCGA-A2-A0CK-01Z-00-DX1/48001_28001_4000_4000_0.2456_1-features.csv.intensity_features.pkl\n",
      "/home/garner1/pipelines/nucleAI/data/TCGA-A2-A0CK-01Z-00-DX1/52001_20001_4000_4000_0.2456_1-features.csv.intensity_features.pkl\n",
      "/home/garner1/pipelines/nucleAI/data/TCGA-A2-A0CK-01Z-00-DX1/16001_28001_4000_4000_0.2456_1-features.csv.intensity_features.pkl\n",
      "/home/garner1/pipelines/nucleAI/data/TCGA-A2-A0CK-01Z-00-DX1/12001_8001_4000_4000_0.2456_1-features.csv.intensity_features.pkl\n",
      "/home/garner1/pipelines/nucleAI/data/TCGA-A2-A0CK-01Z-00-DX1/24001_4001_4000_4000_0.2456_1-features.csv.intensity_features.pkl\n",
      "/home/garner1/pipelines/nucleAI/data/TCGA-A2-A0CK-01Z-00-DX1/56001_20001_4000_4000_0.2456_1-features.csv.intensity_features.pkl\n",
      "/home/garner1/pipelines/nucleAI/data/TCGA-A2-A0CK-01Z-00-DX1/56001_40001_4000_4000_0.2456_1-features.csv.intensity_features.pkl\n",
      "/home/garner1/pipelines/nucleAI/data/TCGA-A2-A0CK-01Z-00-DX1/16001_4001_4000_4000_0.2456_1-features.csv.intensity_features.pkl\n",
      "/home/garner1/pipelines/nucleAI/data/TCGA-A2-A0CK-01Z-00-DX1/40001_36001_4000_4000_0.2456_1-features.csv.intensity_features.pkl\n",
      "/home/garner1/pipelines/nucleAI/data/TCGA-A2-A0CK-01Z-00-DX1/64001_28001_3586_4000_0.2456_1-features.csv.intensity_features.pkl\n",
      "/home/garner1/pipelines/nucleAI/data/TCGA-A2-A0CK-01Z-00-DX1/16001_36001_4000_4000_0.2456_1-features.csv.intensity_features.pkl\n",
      "/home/garner1/pipelines/nucleAI/data/TCGA-A2-A0CK-01Z-00-DX1/36001_28001_4000_4000_0.2456_1-features.csv.intensity_features.pkl\n",
      "/home/garner1/pipelines/nucleAI/data/TCGA-A2-A0CK-01Z-00-DX1/28001_8001_4000_4000_0.2456_1-features.csv.intensity_features.pkl\n",
      "/home/garner1/pipelines/nucleAI/data/TCGA-A2-A0CK-01Z-00-DX1/28001_44001_4000_4000_0.2456_1-features.csv.intensity_features.pkl\n"
     ]
    },
    {
     "name": "stdout",
     "output_type": "stream",
     "text": [
      "/home/garner1/pipelines/nucleAI/data/TCGA-A2-A0CK-01Z-00-DX1/52001_32001_4000_4000_0.2456_1-features.csv.intensity_features.pkl\n",
      "/home/garner1/pipelines/nucleAI/data/TCGA-A2-A0CK-01Z-00-DX1/24001_8001_4000_4000_0.2456_1-features.csv.intensity_features.pkl\n",
      "/home/garner1/pipelines/nucleAI/data/TCGA-A2-A0CK-01Z-00-DX1/52001_44001_4000_4000_0.2456_1-features.csv.intensity_features.pkl\n",
      "/home/garner1/pipelines/nucleAI/data/TCGA-A2-A0CK-01Z-00-DX1/36001_24001_4000_4000_0.2456_1-features.csv.intensity_features.pkl\n",
      "/home/garner1/pipelines/nucleAI/data/TCGA-A2-A0CK-01Z-00-DX1/60001_40001_4000_4000_0.2456_1-features.csv.intensity_features.pkl\n",
      "/home/garner1/pipelines/nucleAI/data/TCGA-A2-A0CK-01Z-00-DX1/24001_24001_4000_4000_0.2456_1-features.csv.intensity_features.pkl\n",
      "/home/garner1/pipelines/nucleAI/data/TCGA-A2-A0CK-01Z-00-DX1/8001_36001_4000_4000_0.2456_1-features.csv.intensity_features.pkl\n",
      "/home/garner1/pipelines/nucleAI/data/TCGA-A2-A0CK-01Z-00-DX1/12001_28001_4000_4000_0.2456_1-features.csv.intensity_features.pkl\n",
      "/home/garner1/pipelines/nucleAI/data/TCGA-A2-A0CK-01Z-00-DX1/8001_12001_4000_4000_0.2456_1-features.csv.intensity_features.pkl\n",
      "/home/garner1/pipelines/nucleAI/data/TCGA-A2-A0CK-01Z-00-DX1/28001_48001_4000_4000_0.2456_1-features.csv.intensity_features.pkl\n",
      "/home/garner1/pipelines/nucleAI/data/TCGA-A2-A0CK-01Z-00-DX1/44001_28001_4000_4000_0.2456_1-features.csv.intensity_features.pkl\n",
      "/home/garner1/pipelines/nucleAI/data/TCGA-A2-A0CK-01Z-00-DX1/44001_20001_4000_4000_0.2456_1-features.csv.intensity_features.pkl\n",
      "/home/garner1/pipelines/nucleAI/data/TCGA-A2-A0CK-01Z-00-DX1/56001_44001_4000_4000_0.2456_1-features.csv.intensity_features.pkl\n",
      "/home/garner1/pipelines/nucleAI/data/TCGA-A2-A0CK-01Z-00-DX1/24001_36001_4000_4000_0.2456_1-features.csv.intensity_features.pkl\n",
      "/home/garner1/pipelines/nucleAI/data/TCGA-A2-A0CK-01Z-00-DX1/44001_32001_4000_4000_0.2456_1-features.csv.intensity_features.pkl\n",
      "/home/garner1/pipelines/nucleAI/data/TCGA-A2-A0CK-01Z-00-DX1/24001_20001_4000_4000_0.2456_1-features.csv.intensity_features.pkl\n",
      "/home/garner1/pipelines/nucleAI/data/TCGA-A2-A0CK-01Z-00-DX1/44001_44001_4000_4000_0.2456_1-features.csv.intensity_features.pkl\n",
      "/home/garner1/pipelines/nucleAI/data/TCGA-A2-A0CK-01Z-00-DX1/56001_16001_4000_4000_0.2456_1-features.csv.intensity_features.pkl\n",
      "/home/garner1/pipelines/nucleAI/data/TCGA-A2-A0CK-01Z-00-DX1/4001_16001_4000_4000_0.2456_1-features.csv.intensity_features.pkl\n",
      "/home/garner1/pipelines/nucleAI/data/TCGA-A2-A0CK-01Z-00-DX1/16001_8001_4000_4000_0.2456_1-features.csv.intensity_features.pkl\n",
      "/home/garner1/pipelines/nucleAI/data/TCGA-A2-A0CK-01Z-00-DX1/16001_24001_4000_4000_0.2456_1-features.csv.intensity_features.pkl\n",
      "/home/garner1/pipelines/nucleAI/data/TCGA-A2-A0CK-01Z-00-DX1/20001_48001_4000_4000_0.2456_1-features.csv.intensity_features.pkl\n",
      "/home/garner1/pipelines/nucleAI/data/TCGA-A2-A0CK-01Z-00-DX1/20001_12001_4000_4000_0.2456_1-features.csv.intensity_features.pkl\n",
      "/home/garner1/pipelines/nucleAI/data/TCGA-A2-A0CK-01Z-00-DX1/16001_20001_4000_4000_0.2456_1-features.csv.intensity_features.pkl\n",
      "/home/garner1/pipelines/nucleAI/data/TCGA-A2-A0CK-01Z-00-DX1/56001_28001_4000_4000_0.2456_1-features.csv.intensity_features.pkl\n",
      "/home/garner1/pipelines/nucleAI/data/TCGA-A2-A0CK-01Z-00-DX1/44001_24001_4000_4000_0.2456_1-features.csv.intensity_features.pkl\n",
      "/home/garner1/pipelines/nucleAI/data/TCGA-A2-A0CK-01Z-00-DX1/44001_40001_4000_4000_0.2456_1-features.csv.intensity_features.pkl\n",
      "/home/garner1/pipelines/nucleAI/data/TCGA-A2-A0CK-01Z-00-DX1/32001_40001_4000_4000_0.2456_1-features.csv.intensity_features.pkl\n",
      "/home/garner1/pipelines/nucleAI/data/TCGA-A2-A0CK-01Z-00-DX1/4001_12001_4000_4000_0.2456_1-features.csv.intensity_features.pkl\n",
      "/home/garner1/pipelines/nucleAI/data/TCGA-A2-A0CK-01Z-00-DX1/20001_40001_4000_4000_0.2456_1-features.csv.intensity_features.pkl\n",
      "/home/garner1/pipelines/nucleAI/data/TCGA-A2-A0CK-01Z-00-DX1/36001_16001_4000_4000_0.2456_1-features.csv.intensity_features.pkl\n",
      "/home/garner1/pipelines/nucleAI/data/TCGA-A2-A0CK-01Z-00-DX1/20001_4001_4000_4000_0.2456_1-features.csv.intensity_features.pkl\n",
      "/home/garner1/pipelines/nucleAI/data/TCGA-A2-A0CK-01Z-00-DX1/8001_20001_4000_4000_0.2456_1-features.csv.intensity_features.pkl\n",
      "/home/garner1/pipelines/nucleAI/data/TCGA-A2-A0CK-01Z-00-DX1/28001_40001_4000_4000_0.2456_1-features.csv.intensity_features.pkl\n",
      "/home/garner1/pipelines/nucleAI/data/TCGA-A2-A0CK-01Z-00-DX1/24001_40001_4000_4000_0.2456_1-features.csv.intensity_features.pkl\n",
      "/home/garner1/pipelines/nucleAI/data/TCGA-A2-A0CK-01Z-00-DX1/16001_40001_4000_4000_0.2456_1-features.csv.intensity_features.pkl\n",
      "/home/garner1/pipelines/nucleAI/data/TCGA-A2-A0CK-01Z-00-DX1/20001_24001_4000_4000_0.2456_1-features.csv.intensity_features.pkl\n",
      "/home/garner1/pipelines/nucleAI/data/TCGA-A2-A0CK-01Z-00-DX1/44001_48001_4000_4000_0.2456_1-features.csv.intensity_features.pkl\n",
      "/home/garner1/pipelines/nucleAI/data/TCGA-A2-A0CK-01Z-00-DX1/12001_32001_4000_4000_0.2456_1-features.csv.intensity_features.pkl\n",
      "/home/garner1/pipelines/nucleAI/data/TCGA-A2-A0CK-01Z-00-DX1/8001_16001_4000_4000_0.2456_1-features.csv.intensity_features.pkl\n",
      "/home/garner1/pipelines/nucleAI/data/TCGA-A2-A0CK-01Z-00-DX1/16001_32001_4000_4000_0.2456_1-features.csv.intensity_features.pkl\n",
      "/home/garner1/pipelines/nucleAI/data/TCGA-A2-A0CK-01Z-00-DX1/12001_20001_4000_4000_0.2456_1-features.csv.intensity_features.pkl\n",
      "/home/garner1/pipelines/nucleAI/data/TCGA-A2-A0CK-01Z-00-DX1/32001_48001_4000_4000_0.2456_1-features.csv.intensity_features.pkl\n",
      "/home/garner1/pipelines/nucleAI/data/TCGA-A2-A0CK-01Z-00-DX1/52001_48001_4000_4000_0.2456_1-features.csv.intensity_features.pkl\n",
      "/home/garner1/pipelines/nucleAI/data/TCGA-A2-A0CK-01Z-00-DX1/40001_20001_4000_4000_0.2456_1-features.csv.intensity_features.pkl\n",
      "/home/garner1/pipelines/nucleAI/data/TCGA-A2-A0CK-01Z-00-DX1/20001_44001_4000_4000_0.2456_1-features.csv.intensity_features.pkl\n",
      "/home/garner1/pipelines/nucleAI/data/TCGA-A2-A0CK-01Z-00-DX1/60001_36001_4000_4000_0.2456_1-features.csv.intensity_features.pkl\n",
      "/home/garner1/pipelines/nucleAI/data/TCGA-A2-A0CK-01Z-00-DX1/36001_40001_4000_4000_0.2456_1-features.csv.intensity_features.pkl\n",
      "/home/garner1/pipelines/nucleAI/data/TCGA-A2-A0CK-01Z-00-DX1/48001_36001_4000_4000_0.2456_1-features.csv.intensity_features.pkl\n",
      "/home/garner1/pipelines/nucleAI/data/TCGA-A2-A0CK-01Z-00-DX1/56001_36001_4000_4000_0.2456_1-features.csv.intensity_features.pkl\n",
      "/home/garner1/pipelines/nucleAI/data/TCGA-A2-A0CK-01Z-00-DX1/20001_8001_4000_4000_0.2456_1-features.csv.intensity_features.pkl\n",
      "/home/garner1/pipelines/nucleAI/data/TCGA-A2-A0CK-01Z-00-DX1/8001_32001_4000_4000_0.2456_1-features.csv.intensity_features.pkl\n",
      "/home/garner1/pipelines/nucleAI/data/TCGA-A2-A0CK-01Z-00-DX1/40001_32001_4000_4000_0.2456_1-features.csv.intensity_features.pkl\n",
      "/home/garner1/pipelines/nucleAI/data/TCGA-A2-A0CK-01Z-00-DX1/60001_32001_4000_4000_0.2456_1-features.csv.intensity_features.pkl\n",
      "/home/garner1/pipelines/nucleAI/data/TCGA-A2-A0CK-01Z-00-DX1/24001_32001_4000_4000_0.2456_1-features.csv.intensity_features.pkl\n",
      "/home/garner1/pipelines/nucleAI/data/TCGA-A2-A0CK-01Z-00-DX1/12001_40001_4000_4000_0.2456_1-features.csv.intensity_features.pkl\n",
      "/home/garner1/pipelines/nucleAI/data/TCGA-A2-A0CK-01Z-00-DX1/32001_20001_4000_4000_0.2456_1-features.csv.intensity_features.pkl\n",
      "/home/garner1/pipelines/nucleAI/data/TCGA-A2-A0CK-01Z-00-DX1/36001_36001_4000_4000_0.2456_1-features.csv.intensity_features.pkl\n",
      "/home/garner1/pipelines/nucleAI/data/TCGA-A2-A0CK-01Z-00-DX1/16001_16001_4000_4000_0.2456_1-features.csv.intensity_features.pkl\n",
      "/home/garner1/pipelines/nucleAI/data/TCGA-A2-A0CK-01Z-00-DX1/52001_40001_4000_4000_0.2456_1-features.csv.intensity_features.pkl\n",
      "/home/garner1/pipelines/nucleAI/data/TCGA-A2-A0CK-01Z-00-DX1/4001_8001_4000_4000_0.2456_1-features.csv.intensity_features.pkl\n",
      "/home/garner1/pipelines/nucleAI/data/TCGA-A2-A0CK-01Z-00-DX1/36001_32001_4000_4000_0.2456_1-features.csv.intensity_features.pkl\n",
      "/home/garner1/pipelines/nucleAI/data/TCGA-A2-A0CK-01Z-00-DX1/52001_28001_4000_4000_0.2456_1-features.csv.intensity_features.pkl\n",
      "/home/garner1/pipelines/nucleAI/data/TCGA-A2-A0CK-01Z-00-DX1/40001_44001_4000_4000_0.2456_1-features.csv.intensity_features.pkl\n",
      "/home/garner1/pipelines/nucleAI/data/TCGA-A2-A0CK-01Z-00-DX1/12001_24001_4000_4000_0.2456_1-features.csv.intensity_features.pkl\n"
     ]
    },
    {
     "name": "stdout",
     "output_type": "stream",
     "text": [
      "/home/garner1/pipelines/nucleAI/data/TCGA-A2-A0CK-01Z-00-DX1/48001_32001_4000_4000_0.2456_1-features.csv.intensity_features.pkl\n"
     ]
    }
   ],
   "source": [
    "reducer = umap.UMAP(n_components=2,min_dist=0,n_neighbors=10)\n",
    "intensity_features = []\n",
    "for patch in patches[:]:\n",
    "    #print(patch)\n",
    "    infile = open(patch,'rb')\n",
    "    lista = pickle.load(infile)\n",
    "    intensity_features.extend(lista)\n",
    "    infile.close()"
   ]
  },
  {
   "cell_type": "code",
   "execution_count": null,
   "metadata": {},
   "outputs": [
    {
     "name": "stdout",
     "output_type": "stream",
     "text": [
      "logm result may be inaccurate, approximate err = 1.3285379257558228e-09\n",
      "logm result may be inaccurate, approximate err = 7.092682542049197e-13\n"
     ]
    }
   ],
   "source": [
    "data = np.array([np.real(sp.linalg.logm(np.cov(f,rowvar=False))).flatten() for f in intensity_features if f is not None])  "
   ]
  },
  {
   "cell_type": "code",
   "execution_count": null,
   "metadata": {},
   "outputs": [],
   "source": [
    "embedding = reducer.fit_transform(data)\n",
    "x = embedding[:,0]\n",
    "y = embedding[:,1]\n",
    "df_plot = pd.DataFrame(dict(x=x, y=y))\n",
    "\n",
    "fig, ax = plt.subplots(figsize=(10,10))\n",
    "ax = sns.scatterplot(x=\"x\", y=\"y\", data=df_plot)"
   ]
  },
  {
   "cell_type": "code",
   "execution_count": null,
   "metadata": {},
   "outputs": [],
   "source": []
  },
  {
   "cell_type": "code",
   "execution_count": null,
   "metadata": {},
   "outputs": [],
   "source": []
  },
  {
   "cell_type": "code",
   "execution_count": null,
   "metadata": {},
   "outputs": [],
   "source": [
    "feature_data = np.zeros((arr_3d.shape[0]*arr_3d.shape[1],9))\n",
    "idx = 0\n",
    "for r in range(arr_3d.shape[0]):\n",
    "    for c in range(arr_3d.shape[1]):\n",
    "        feature_data[idx,:] = np.hstack((r,c,\n",
    "                                    arr_3d[r,c,0],arr_3d[r,c,1],arr_3d[r,c,2],\n",
    "                                    delta_x[r,c],delta_y[r,c],\n",
    "                                    delta_xx[r,c],delta_yy[r,c]))\n",
    "        idx += 1\n",
    "\n",
    "print(np.corrcoef(feature_data,rowvar=False)) # get the normalized covariace matrix\n",
    "print(np.cov(feature_data,rowvar=False)) # get the covariace matrix"
   ]
  },
  {
   "cell_type": "code",
   "execution_count": null,
   "metadata": {
    "scrolled": false
   },
   "outputs": [],
   "source": [
    "# create stain to color map\n",
    "stain_color_map = htk.preprocessing.color_deconvolution.stain_color_map\n",
    "print('stain_color_map:', stain_color_map, sep='\\n')\n",
    "\n",
    "# specify stains of input image\n",
    "stains = ['hematoxylin',  # nuclei stain\n",
    "          'eosin',        # cytoplasm stain\n",
    "          'null']         # set to null if input contains only two stains\n",
    "\n",
    "# create stain matrix\n",
    "W = np.array([stain_color_map[st] for st in stains]).T\n",
    "\n",
    "# perform standard color deconvolution\n",
    "imDeconvolved = htk.preprocessing.color_deconvolution.color_deconvolution(imInput, W)\n",
    "\n",
    "# Display results\n",
    "for i in [0]:#, 1:\n",
    "    plt.figure()\n",
    "    plt.imshow(imDeconvolved.Stains[:, :, i])\n",
    "    _ = plt.title(stains[i], fontsize=titlesize)"
   ]
  },
  {
   "cell_type": "code",
   "execution_count": null,
   "metadata": {},
   "outputs": [],
   "source": [
    "plt.figure()\n",
    "masked = np.multiply(imDeconvolved.Stains[:, :, 0],~mask)\n",
    "plt.imshow(masked>1)"
   ]
  }
 ],
 "metadata": {
  "kernelspec": {
   "display_name": "Python 3",
   "language": "python",
   "name": "python3"
  },
  "language_info": {
   "codemirror_mode": {
    "name": "ipython",
    "version": 3
   },
   "file_extension": ".py",
   "mimetype": "text/x-python",
   "name": "python",
   "nbconvert_exporter": "python",
   "pygments_lexer": "ipython3",
   "version": "3.7.4"
  }
 },
 "nbformat": 4,
 "nbformat_minor": 2
}
