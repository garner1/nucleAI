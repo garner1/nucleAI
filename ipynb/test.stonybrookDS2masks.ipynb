{
 "cells": [
  {
   "cell_type": "code",
   "execution_count": 1,
   "metadata": {},
   "outputs": [],
   "source": [
    "import sys  \n",
    "sys.path.insert(0, '../py')\n",
    "from graviti import *\n",
    "\n",
    "import json\n",
    "import numpy as np\n",
    "from skimage.draw import polygon\n",
    "from skimage import io\n",
    "from matplotlib import pyplot as plt\n",
    "import glob\n",
    "import pandas as pd\n",
    "import os\n",
    "from scipy.sparse import coo_matrix\n",
    "from skimage.measure import label, regionprops#, regionprops_table\n",
    "import math\n",
    "\n",
    "import timeit\n",
    "import multiprocessing\n",
    "from joblib import Parallel, delayed\n",
    "from datetime import datetime\n",
    "from tqdm import tqdm"
   ]
  },
  {
   "cell_type": "code",
   "execution_count": 5,
   "metadata": {},
   "outputs": [
    {
     "name": "stdout",
     "output_type": "stream",
     "text": [
      "There are 543 samples\n"
     ]
    }
   ],
   "source": [
    "datadir = '/home/garner1/Work/dataset/tcga_polygons/LUAD'\n",
    "samples = glob.glob(datadir+'/*.gz')\n",
    "print('There are '+str(len(samples))+' samples')"
   ]
  },
  {
   "cell_type": "code",
   "execution_count": null,
   "metadata": {},
   "outputs": [
    {
     "name": "stdout",
     "output_type": "stream",
     "text": [
      "Sample 1 of 543\n",
      "TCGA-55-8204-01Z-00-DX1\n"
     ]
    },
    {
     "name": "stderr",
     "output_type": "stream",
     "text": [
      " 74%|███████▍  | 3669/4944 [29:22<10:14,  2.08it/s]  "
     ]
    }
   ],
   "source": [
    "features = ['centroid_x','centroid_y','area','eccentricity','orientation','perimeter','solidity']\n",
    "num_cores = multiprocessing.cpu_count() # numb of cores\n",
    "counter = 0\n",
    "for sample in glob.glob(datadir+'/*.gz/*.gz'): # for each sample compressed file\n",
    "    counter += 1\n",
    "    print('Sample '+str(counter)+' of '+str(len(samples)))\n",
    "    ID = os.path.basename(sample).split(sep='.')[0] #get sample ID\n",
    "    print(ID)\n",
    "    !tar -xf $sample #decompress the file locally\n",
    "    dirname = os.path.dirname(sample) #get the sample directory\n",
    "    if not os.path.exists(os.path.join(dirname,'luad_polygon')): # if the polygon folder does not exist proceed\n",
    "        !mv './luad_polygon/' $dirname #move the decompressed files to the sample directory\n",
    "        patchlist = glob.glob(dirname+'/*_polygon/*.svs/*.csv') #get the list of patches    \n",
    "\n",
    "        # Show the patches as png files\n",
    "        #Parallel(n_jobs=num_cores)(delayed(show_patches_parallel)(filename) for filename in tqdm(patchlist) if ~pd.read_csv(filename).empty)\n",
    "        \n",
    "        # Calculate the morphometrics of each patch as a pkl file\n",
    "        Parallel(n_jobs=num_cores)(\n",
    "            delayed(measure_patch_of_polygons)(filename,features) for filename in tqdm(patchlist[:]) if ~pd.read_csv(filename).empty\n",
    "            )"
   ]
  },
  {
   "cell_type": "code",
   "execution_count": null,
   "metadata": {},
   "outputs": [],
   "source": [
    "cells = 0\n",
    "for filename in glob.glob('/media/garner1/hdd2/TCGA_polygons/luad/TCGA-05-4410-01Z-00-DX1*.gz/*/*.svs/*.pkl'):\n",
    "    df = pd.read_pickle(filename)\n",
    "    cells += df.shape[0]\n",
    "print(cells)"
   ]
  }
 ],
 "metadata": {
  "kernelspec": {
   "display_name": "Python 3",
   "language": "python",
   "name": "python3"
  },
  "language_info": {
   "codemirror_mode": {
    "name": "ipython",
    "version": 3
   },
   "file_extension": ".py",
   "mimetype": "text/x-python",
   "name": "python",
   "nbconvert_exporter": "python",
   "pygments_lexer": "ipython3",
   "version": "3.7.3"
  }
 },
 "nbformat": 4,
 "nbformat_minor": 2
}
