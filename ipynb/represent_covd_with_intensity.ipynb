{
 "cells": [
  {
   "cell_type": "code",
   "execution_count": 1,
   "metadata": {},
   "outputs": [],
   "source": [
    "from __future__ import print_function\n",
    "\n",
    "from matplotlib import pyplot as plt\n",
    "import matplotlib.patches as mpatches\n",
    "%matplotlib inline\n",
    "\n",
    "import sys\n",
    "sys.path.insert(0, '../py')\n",
    "from graviti import *\n",
    "\n",
    "import numpy as np\n",
    "import scipy as sp\n",
    "from scipy.sparse import coo_matrix\n",
    "import scipy.ndimage as ndi\n",
    "\n",
    "from skimage.draw import polygon\n",
    "from skimage import io\n",
    "from skimage.measure import label, regionprops\n",
    "import skimage.io\n",
    "import skimage.measure\n",
    "import skimage.color\n",
    "\n",
    "import glob\n",
    "import pickle\n",
    "import pandas as pd\n",
    "import os\n",
    "import timeit\n",
    "import random\n",
    "\n",
    "import pyvips\n",
    "\n",
    "import timeit\n",
    "import multiprocessing\n",
    "from joblib import Parallel, delayed\n",
    "from datetime import datetime\n",
    "from tqdm import tqdm\n",
    "\n",
    "import umap\n",
    "import seaborn as sns; sns.set()"
   ]
  },
  {
   "cell_type": "code",
   "execution_count": 2,
   "metadata": {},
   "outputs": [],
   "source": [
    "def get_LogCovMat_parallel(featureMat):\n",
    "    out = np.real(sp.linalg.logm(np.cov(featureMat,rowvar=False))).flatten()\n",
    "    return out\n",
    "def get_LogCorrMat_parallel(featureMat):\n",
    "    return np.real(sp.linalg.logm(np.corrcoef(featureMat,rowvar=False))).flatten()\n",
    "def get_position_parallel(featureMat):\n",
    "    pos = featureMat[0]\n",
    "    return pos"
   ]
  },
  {
   "cell_type": "code",
   "execution_count": 3,
   "metadata": {},
   "outputs": [],
   "source": [
    "patches = glob.glob('/home/garner1/pipelines/nucleAI/data/TCGA-05-4402-01Z-00-DX1/*.pkl')"
   ]
  },
  {
   "cell_type": "code",
   "execution_count": 19,
   "metadata": {},
   "outputs": [
    {
     "name": "stdout",
     "output_type": "stream",
     "text": [
      "3649\n"
     ]
    }
   ],
   "source": [
    "intensity_features = []\n",
    "for patch in patches[:]:\n",
    "    #print(patch)\n",
    "    infile = open(patch,'rb')\n",
    "    lista = pickle.load(infile)\n",
    "    intensity_features.extend(lista)\n",
    "    infile.close()\n",
    "print(len(intensity_features))"
   ]
  },
  {
   "cell_type": "code",
   "execution_count": 20,
   "metadata": {},
   "outputs": [],
   "source": [
    "list_of_features = random.sample(intensity_features,3000)"
   ]
  },
  {
   "cell_type": "code",
   "execution_count": 21,
   "metadata": {},
   "outputs": [],
   "source": [
    "num_cores = multiprocessing.cpu_count() # numb of cores"
   ]
  },
  {
   "cell_type": "code",
   "execution_count": 22,
   "metadata": {},
   "outputs": [
    {
     "name": "stderr",
     "output_type": "stream",
     "text": [
      "100%|██████████| 3649/3649 [00:02<00:00, 1822.23it/s]\n",
      "100%|██████████| 3649/3649 [00:10<00:00, 337.56it/s]\n",
      "100%|██████████| 3649/3649 [00:11<00:00, 318.91it/s]\n"
     ]
    }
   ],
   "source": [
    "pos = Parallel(n_jobs=num_cores)( delayed(get_position_parallel)(f) for f in tqdm(intensity_features) if f is not None)\n",
    "data_cov = Parallel(n_jobs=num_cores)( delayed(get_LogCovMat_parallel)(f[1]) for f in tqdm(intensity_features) if f is not None)\n",
    "data_corrcoef = Parallel(n_jobs=num_cores)( delayed(get_LogCorrMat_parallel)(f[1]) for f in tqdm(intensity_features) if f is not None)\n",
    "\n",
    "#Get data in a serial way\n",
    "#pos = np.array([f[0] for f in list_of_features if f is not None])  \n",
    "#data_cov = np.array([np.real(sp.linalg.logm(np.cov(f[1],rowvar=False))).flatten() for f in list_of_features if f is not None])  \n",
    "#data_corrcoef = np.array([np.real(sp.linalg.logm(np.corrcoef(f[1],rowvar=False))).flatten() for f in list_of_features if f is not None])  "
   ]
  },
  {
   "cell_type": "code",
   "execution_count": 23,
   "metadata": {},
   "outputs": [],
   "source": [
    "reducer = umap.UMAP(n_components=2,min_dist=0,n_neighbors=10)\n",
    "embedding = reducer.fit_transform(data_cov)\n",
    "\n",
    "# Define dataframe in lowD\n",
    "df =  pd.DataFrame(dict(x=embedding[:,0], y=embedding[:,1]))"
   ]
  },
  {
   "cell_type": "code",
   "execution_count": 24,
   "metadata": {
    "scrolled": false
   },
   "outputs": [
    {
     "data": {
      "image/png": "[encoded data removed]",
      "text/plain": [
       "<Figure size 728.8x720 with 1 Axes>"
      ]
     },
     "metadata": {
      "needs_background": "light"
     },
     "output_type": "display_data"
    }
   ],
   "source": [
    "import seaborn\n",
    "ax = seaborn.FacetGrid(data=df,height=10, aspect=1)\n",
    "ax.map(plt.scatter, 'x', 'y',s=20).add_legend()\n",
    "plt.gca().invert_yaxis()"
   ]
  },
  {
   "cell_type": "code",
   "execution_count": null,
   "metadata": {},
   "outputs": [],
   "source": []
  },
  {
   "cell_type": "code",
   "execution_count": null,
   "metadata": {},
   "outputs": [],
   "source": []
  },
  {
   "cell_type": "code",
   "execution_count": 13,
   "metadata": {},
   "outputs": [
    {
     "name": "stdout",
     "output_type": "stream",
     "text": [
      "2.1313839926364904 0.7192526234090215 0.5174003128318362\n"
     ]
    }
   ],
   "source": [
    "barycenter_cov = np.mean(data_cov,axis=0)\n",
    "dist = sp.linalg.norm(data_cov-barycenter_cov,axis=1)\n",
    "print(np.mean(dist),np.std(dist),np.cov(dist))"
   ]
  },
  {
   "cell_type": "code",
   "execution_count": null,
   "metadata": {
    "scrolled": true
   },
   "outputs": [],
   "source": [
    "ax = seaborn.FacetGrid(data=df_plot[['x','y','cluster']], \n",
    "                       hue='cluster',\n",
    "                       height=10, aspect=1)\n",
    "ax.map(plt.scatter, 'x', 'y',s=20).add_legend()\n",
    "plt.gca().invert_yaxis()"
   ]
  },
  {
   "cell_type": "code",
   "execution_count": null,
   "metadata": {},
   "outputs": [],
   "source": [
    "# K-means classification\n",
    "from sklearn.cluster import KMeans, DBSCAN\n",
    "import hdbscan\n",
    "df = df_plot[df_plot['cluster']==3]\n",
    "db = hdbscan.HDBSCAN(min_cluster_size=10).fit(df[['x_umap','y_umap']]\n",
    ")\n",
    "#kmeans = KMeans(n_clusters=2, random_state=0).fit(embedding)\n",
    "\n",
    "df['cluster_B'] = db.labels_\n",
    "\n",
    "# Show the cluster to study\n",
    "import seaborn\n",
    "seaborn.set(style='white')\n",
    "\n",
    "fg = seaborn.FacetGrid(data=df[['x_umap','y_umap','cluster_B']], \n",
    "                       height=10, aspect=1,\n",
    "                       hue='cluster_B')\n",
    "fg.map(plt.scatter, 'x_umap', 'y_umap',s=10).add_legend()"
   ]
  },
  {
   "cell_type": "code",
   "execution_count": null,
   "metadata": {},
   "outputs": [],
   "source": [
    "x = pos[:,0]\n",
    "y = pos[:,1]\n",
    "\n",
    "df_plot = pd.DataFrame(dict(x=x, y=y))\n",
    "\n",
    "fig, ax = plt.subplots(figsize=(10,10))\n",
    "ax = sns.scatterplot(x=\"x\", y=\"y\", s=10,data=df_plot)\n",
    "ax.invert_yaxis()\n",
    "\n",
    "embedding = reducer.fit_transform(data_cov)\n",
    "df_plot['x_umap'] = embedding[:,0]\n",
    "df_plot['y_umap'] = embedding[:,1]\n",
    "\n",
    "\n",
    "fig, ax = plt.subplots(figsize=(10,10))\n",
    "ax = sns.scatterplot(x=\"x_umap\", y=\"y_umap\", s=10, data=df_plot)\n",
    "\n",
    "# K-means classification\n",
    "from sklearn.cluster import KMeans, DBSCAN\n",
    "import hdbscan\n",
    "\n",
    "db = hdbscan.HDBSCAN(min_cluster_size=100).fit(embedding)\n",
    "#kmeans = KMeans(n_clusters=2, random_state=0).fit(embedding)\n",
    "\n",
    "df_plot['cluster'] = db.labels_\n",
    "\n",
    "# Show the cluster to study\n",
    "import seaborn\n",
    "seaborn.set(style='white')\n",
    "\n",
    "fg = seaborn.FacetGrid(data=df_plot[['x_umap','y_umap','cluster']], \n",
    "                       height=10, aspect=1,\n",
    "                       hue='cluster')\n",
    "fg.map(plt.scatter, 'x_umap', 'y_umap',s=10).add_legend()\n",
    "\n",
    "ax = seaborn.FacetGrid(data=df_plot[['x','y','cluster']], \n",
    "                       hue='cluster',\n",
    "                       height=10, aspect=1)\n",
    "ax.map(plt.scatter, 'x', 'y',s=20).add_legend()\n",
    "plt.gca().invert_yaxis()\n",
    "\n",
    "# K-means classification\n",
    "from sklearn.cluster import KMeans, DBSCAN\n",
    "import hdbscan\n",
    "df = df_plot[df_plot['cluster']==3]\n",
    "db = hdbscan.HDBSCAN(min_cluster_size=10).fit(df[['x_umap','y_umap']]\n",
    ")\n",
    "#kmeans = KMeans(n_clusters=2, random_state=0).fit(embedding)\n",
    "\n",
    "df['cluster_B'] = db.labels_\n",
    "\n",
    "# Show the cluster to study\n",
    "import seaborn\n",
    "seaborn.set(style='white')\n",
    "\n",
    "fg = seaborn.FacetGrid(data=df[['x_umap','y_umap','cluster_B']], \n",
    "                       height=10, aspect=1,\n",
    "                       hue='cluster_B')\n",
    "fg.map(plt.scatter, 'x_umap', 'y_umap',s=10).add_legend()\n",
    "\n",
    "ax = seaborn.FacetGrid(data=df[['x','y','cluster_B']], \n",
    "                       hue='cluster_B',\n",
    "                       height=10, aspect=1)\n",
    "ax.map(plt.scatter, 'x', 'y',s=20).add_legend()\n",
    "plt.gca().invert_yaxis()"
   ]
  },
  {
   "cell_type": "code",
   "execution_count": null,
   "metadata": {},
   "outputs": [],
   "source": []
  }
 ],
 "metadata": {
  "kernelspec": {
   "display_name": "Python 3",
   "language": "python",
   "name": "python3"
  },
  "language_info": {
   "codemirror_mode": {
    "name": "ipython",
    "version": 3
   },
   "file_extension": ".py",
   "mimetype": "text/x-python",
   "name": "python",
   "nbconvert_exporter": "python",
   "pygments_lexer": "ipython3",
   "version": "3.7.4"
  }
 },
 "nbformat": 4,
 "nbformat_minor": 2
}
