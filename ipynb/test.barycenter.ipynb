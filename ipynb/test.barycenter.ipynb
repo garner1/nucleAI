{
 "cells": [
  {
   "cell_type": "code",
   "execution_count": 1,
   "metadata": {},
   "outputs": [],
   "source": [
    "import sys  \n",
    "sys.path.insert(0, '../py')\n",
    "from graviti import *\n",
    "\n",
    "from numpy.linalg import norm\n",
    "import numpy as np\n",
    "import os\n",
    "import os.path\n",
    "from os import path\n",
    "import sys\n",
    "import glob\n",
    "import h5py\n",
    "import seaborn as sns\n",
    "import matplotlib.pyplot as plt\n",
    "import matplotlib\n",
    "#matplotlib.use('Agg')\n",
    "import plotly.graph_objects as go\n",
    "from plotly.graph_objs import *\n",
    "import plotly.express as px\n",
    "import hdbscan\n",
    "import pandas as pd\n",
    "import umap\n",
    "import networkx as nx\n",
    "from scipy import sparse, linalg\n",
    "import pickle\n",
    "from sklearn.preprocessing import normalize, scale\n",
    "from scipy.sparse import find\n",
    "from numpy.linalg import norm\n",
    "import timeit\n",
    "import multiprocessing\n",
    "from joblib import Parallel, delayed\n",
    "from datetime import datetime\n",
    "from tqdm import tqdm\n",
    "\n",
    "import warnings\n",
    "warnings.filterwarnings('ignore')\n",
    "\n",
    "from sklearn.neighbors import KDTree\n",
    "from sklearn.neighbors import NearestNeighbors\n"
   ]
  },
  {
   "cell_type": "code",
   "execution_count": 58,
   "metadata": {},
   "outputs": [
    {
     "name": "stdout",
     "output_type": "stream",
     "text": [
      "TCGA-MP-A4TJ-01Z-00-DX1\n",
      "Loading the data\n",
      "There are 440 FOVs\n",
      "2198499 nuclei\n",
      "Downsampling 100000 nuclei\n"
     ]
    }
   ],
   "source": [
    "size = 100000\n",
    "dirpath = '../data/TCGA-MP-A4TJ-01Z-00-DX1.14EDBE5C-5D0C-4002-BE95-AF5C9D9F3D43.svs.tar.gz'\n",
    "\n",
    "nn = 10 # set the number of nearest neighbor in the umap-graph. Will be used in CovD as well\n",
    "\n",
    "num_cores = multiprocessing.cpu_count() # numb of cores\n",
    "\n",
    "sample = os.path.basename(dirpath).split(sep='.')[0]; print(sample)\n",
    "\n",
    "print('Loading the data')\n",
    "df = pd.DataFrame()\n",
    "fovs = glob.glob(dirpath+'/*_polygon/*.svs/*.csv.morphometrics.pkl')\n",
    "\n",
    "print('There are '+str(len(fovs))+' FOVs')\n",
    "for fov in fovs: # for each fov\n",
    "    data = pd.read_pickle(fov)\n",
    "    df = df.append(data, ignore_index = True)\n",
    "\n",
    "df['area'] = df['area'].astype(float) # convert to float this field\n",
    "\n",
    "#df = df.head(n=200000) # hard-coded downsize for memory issues \n",
    "numb_nuclei = df.shape[0] \n",
    "print(str(numb_nuclei)+' nuclei')\n",
    "    \n",
    "if size == 0 or size > df.shape[0]:\n",
    "    print('Considering all nuclei')\n",
    "    size = 0\n",
    "    fdf = df \n",
    "else:\n",
    "    print('Downsampling '+str(size)+' nuclei')\n",
    "    fdf = df.sample(n=size,random_state=1234) #!!!hard-coded random state "
   ]
  },
  {
   "cell_type": "code",
   "execution_count": 59,
   "metadata": {},
   "outputs": [
    {
     "name": "stdout",
     "output_type": "stream",
     "text": [
      "Creating the UMAP graph\n",
      "Characterizing the neighborhood\n"
     ]
    },
    {
     "name": "stderr",
     "output_type": "stream",
     "text": [
      "\r",
      "  0%|          | 0/100000 [00:00<?, ?it/s]"
     ]
    },
    {
     "name": "stdout",
     "output_type": "stream",
     "text": [
      "Generating the descriptor\n"
     ]
    },
    {
     "name": "stderr",
     "output_type": "stream",
     "text": [
      "100%|██████████| 100000/100000 [03:13<00:00, 517.61it/s]\n"
     ]
    }
   ],
   "source": [
    "print('Creating the UMAP graph')\n",
    "centroids = df.columns[:2];# print(centroids)\n",
    "pos = fdf[centroids].to_numpy(dtype='float') # Get the positions of centroids \n",
    "A = space2graph(pos,nn)\n",
    "print('Characterizing the neighborhood')\n",
    "X = df[centroids].to_numpy() # the full array of position\n",
    "if size is not 0:\n",
    "    n_neighbors = df.shape[0]//size + 10\n",
    "else:\n",
    "    n_neighbors = 10    \n",
    "nbrs = NearestNeighbors(n_neighbors=n_neighbors, algorithm='kd_tree',n_jobs=-1).fit(X) \n",
    "distances, indices = nbrs.kneighbors(X) \n",
    "\n",
    "#get the morphological data and rescale the data by std\n",
    "df['circularity'] = 4.0*np.pi*df['area'] / (df['perimeter']*df['perimeter'])\n",
    "features = ['area', 'eccentricity', 'orientation','perimeter', 'solidity','circularity']\n",
    "\n",
    "data = df[features].to_numpy(); #print(data.shape)\n",
    "    \n",
    "# Parallel generation of the local covd\n",
    "filename = dirpath+'/'+sample+'.nuclei'+str(numb_nuclei)+'.size'+str(size)+'.graphNN'+str(nn)+'.covdNN'+str(n_neighbors)+'.descriptors.pkl'\n",
    "if not os.path.exists(filename):\n",
    "    print('Generating the descriptor')\n",
    "    processed_list = Parallel(n_jobs=num_cores)(\n",
    "        delayed(covd_parallel_sparse)(node,data,indices) for node in tqdm(list(fdf.index))\n",
    "    )\n",
    "    pickle.dump( processed_list, open( filename, \"wb\" ) )\n",
    "else:\n",
    "    print('Loading the descriptor')\n",
    "    processed_list = pickle.load( open( filename, \"rb\" ) )"
   ]
  },
  {
   "cell_type": "code",
   "execution_count": 60,
   "metadata": {},
   "outputs": [
    {
     "name": "stdout",
     "output_type": "stream",
     "text": [
      "There are 98300 nodes with covd properly defined\n"
     ]
    }
   ],
   "source": [
    "    \n",
    "nodes_with_covd = [l[0] for l in processed_list if l[2] == 0] # list of nodes with proper covd\n",
    "nodes_wo_covd = [l[0] for l in processed_list if l[2] == 1] # list of nodes wo covd\n",
    "fdf['covd'] = [0 for i in range(fdf.shape[0])]\n",
    "fdf.loc[nodes_wo_covd,'covd'] = 0 # identify nodes wo covd in dataframe\n",
    "fdf.loc[nodes_with_covd,'covd'] = 1 # identify nodes with covd in dataframe\n",
    "    \n",
    "print('There are '+str(len(nodes_with_covd))+' nodes with covd properly defined')"
   ]
  },
  {
   "cell_type": "code",
   "execution_count": 61,
   "metadata": {},
   "outputs": [
    {
     "name": "stdout",
     "output_type": "stream",
     "text": [
      "1700\n"
     ]
    }
   ],
   "source": [
    "# Construct the descriptor array\n",
    "descriptor = np.zeros((len(processed_list),processed_list[0][1].shape[0]),dtype=complex)\n",
    "counter = 0\n",
    "for r in range(len(processed_list)):\n",
    "    if sum(np.isnan(processed_list[r][1])):\n",
    "        counter += 1\n",
    "        descriptor[r,:] = np.zeros(processed_list[r][1].shape)\n",
    "    else:\n",
    "        descriptor[r,:] = processed_list[r][1] \n",
    "print(counter)"
   ]
  },
  {
   "cell_type": "code",
   "execution_count": 62,
   "metadata": {},
   "outputs": [],
   "source": [
    "mean_covd = np.mean(descriptor,axis=0)"
   ]
  },
  {
   "cell_type": "code",
   "execution_count": 63,
   "metadata": {},
   "outputs": [],
   "source": [
    "from numpy import linalg as LA\n",
    "delta = descriptor-mean_covd\n",
    "distance_from_barycenter = LA.norm(delta,axis=1)"
   ]
  },
  {
   "cell_type": "code",
   "execution_count": 64,
   "metadata": {},
   "outputs": [],
   "source": [
    "fdf['heterogeneity'] = distance_from_barycenter"
   ]
  },
  {
   "cell_type": "code",
   "execution_count": 69,
   "metadata": {},
   "outputs": [],
   "source": [
    "#Show contour plot\n",
    "N = 100\n",
    "filename = dirpath+'/'+sample+'.nuclei'+str(numb_nuclei)+'.size'+str(size)+'.graphNN'+str(nn)+'.covdNN'+str(n_neighbors)+'.contour.baryDist.mean.png'\n",
    "contourPlot(fdf[fdf['covd']==True],N,np.mean,filename)\n"
   ]
  },
  {
   "cell_type": "code",
   "execution_count": 103,
   "metadata": {},
   "outputs": [],
   "source": [
    "#Show contour plot\n",
    "N = 100\n",
    "filename = 'test.mean'\n",
    "contourPlot(fdf[(fdf['covd']==True) & (fdf['heterogeneity']>0)],N,np.mean,filename)"
   ]
  },
  {
   "cell_type": "code",
   "execution_count": 83,
   "metadata": {},
   "outputs": [
    {
     "data": {
      "text/plain": [
       "(25, 9)"
      ]
     },
     "execution_count": 83,
     "metadata": {},
     "output_type": "execute_result"
    }
   ],
   "source": [
    "fdf[(fdf['covd']==True) & (fdf['heterogeneity']>2)].shape"
   ]
  },
  {
   "cell_type": "code",
   "execution_count": 75,
   "metadata": {},
   "outputs": [
    {
     "data": {
      "text/plain": [
       "<matplotlib.axes._subplots.AxesSubplot at 0x7f9a5b87a190>"
      ]
     },
     "execution_count": 75,
     "metadata": {},
     "output_type": "execute_result"
    },
    {
     "data": {
      "image/png": "[encoded data removed]",
      "text/plain": [
       "<Figure size 432x288 with 1 Axes>"
      ]
     },
     "metadata": {
      "needs_background": "light"
     },
     "output_type": "display_data"
    }
   ],
   "source": [
    "fdf['heterogeneity'].hist(bins=100)"
   ]
  }
 ],
 "metadata": {
  "kernelspec": {
   "display_name": "Python 3",
   "language": "python",
   "name": "python3"
  },
  "language_info": {
   "codemirror_mode": {
    "name": "ipython",
    "version": 3
   },
   "file_extension": ".py",
   "mimetype": "text/x-python",
   "name": "python",
   "nbconvert_exporter": "python",
   "pygments_lexer": "ipython3",
   "version": "3.7.4"
  }
 },
 "nbformat": 4,
 "nbformat_minor": 2
}
