{
 "cells": [
  {
   "cell_type": "code",
   "execution_count": null,
   "metadata": {},
   "outputs": [],
   "source": [
    "import os\n",
    "import glob\n",
    "import pickle\n",
    "import sys  \n",
    "\n",
    "sys.path.insert(0, '../py')\n",
    "from graviti import *\n",
    "\n",
    "import numpy as np\n",
    "import pandas as pd\n",
    "\n",
    "from  matplotlib import pyplot\n",
    "from matplotlib.colors import ListedColormap\n",
    "from sklearn import neighbors, datasets\n",
    "import seaborn\n",
    "\n",
    "import umap\n",
    "\n",
    "import warnings\n",
    "warnings.filterwarnings('ignore')"
   ]
  },
  {
   "cell_type": "code",
   "execution_count": null,
   "metadata": {},
   "outputs": [],
   "source": [
    "# Load the 2d umap projection for BRCA \n",
    "umap_proj_filename = '../data/descriptor_withI.umap.csv' \n",
    "umap_xy = pd.read_csv(umap_proj_filename)\n",
    "# Pase the sample id in order to compare with the subtype table\n",
    "umap_xy['Sample.ID'] = umap_xy['sample'].str.rsplit('-',n=3,expand=True)[0]"
   ]
  },
  {
   "cell_type": "code",
   "execution_count": null,
   "metadata": {},
   "outputs": [],
   "source": [
    "# Load the molecular subtype table from literature\n",
    "subtypes_filename = '../data/subtypes.csv'\n",
    "subtypes = pd.read_csv(subtypes_filename,header=1)"
   ]
  },
  {
   "cell_type": "code",
   "execution_count": null,
   "metadata": {},
   "outputs": [],
   "source": [
    "#print(subtypes.head())\n",
    "#print(set(subtypes['Tumor.Type']))\n",
    "#print(subtypes.shape)\n",
    "\n",
    "#print(umap_xy.head())"
   ]
  },
  {
   "cell_type": "code",
   "execution_count": null,
   "metadata": {},
   "outputs": [],
   "source": [
    "# merge the two tables on the Sample.ID\n",
    "df_merged = pd.merge(umap_xy, subtypes, on=\"Sample.ID\")\n",
    "df_merged.drop('Unnamed: 0',axis=1,inplace=True)\n",
    "df_merged.columns"
   ]
  },
  {
   "cell_type": "code",
   "execution_count": null,
   "metadata": {},
   "outputs": [],
   "source": [
    "# Define a function showing a feature distribution on the umap projection\n",
    "import seaborn\n",
    "seaborn.set(style='white')\n",
    "def show_umap_proj(feature,df):\n",
    "    dff = df[['x','y',feature]]\n",
    "    #print(dff[feature].value_counts())\n",
    "    fg = seaborn.FacetGrid(data=dff, \n",
    "                           hue=feature,\n",
    "                           height=10, aspect=1\n",
    "                          )\n",
    "    fg.map(pyplot.scatter, 'x', 'y',s=50,alpha=0.5).add_legend()\n",
    "    plt.text(-8.0, -3.0, str(dff[feature].value_counts()), \n",
    "            horizontalalignment='left', size='medium', color='black')#, weight='semibold')\n",
    "\n",
    "    filename = 'umap_'+str(feature)\n",
    "    plt.savefig(filename+'.png')"
   ]
  },
  {
   "cell_type": "code",
   "execution_count": null,
   "metadata": {},
   "outputs": [],
   "source": [
    "# Define the feature set\n",
    "feature_set = ['pathologic_stage',\n",
    "        'BRCA_Pathology', 'BRCA_Subtype_PAM50',\n",
    "        'CNV Clusters',\n",
    "       'Mutation Clusters', 'DNA.Methylation Clusters', 'mRNA Clusters',\n",
    "       'miRNA Clusters', 'lncRNA Clusters', 'Protein Clusters',\n",
    "       'PARADIGM Clusters', 'Pan-Gyn Clusters']"
   ]
  },
  {
   "cell_type": "code",
   "execution_count": null,
   "metadata": {
    "scrolled": false
   },
   "outputs": [],
   "source": [
    "for feature in feature_set:\n",
    "    show_umap_proj(feature,df_merged)"
   ]
  },
  {
   "cell_type": "code",
   "execution_count": null,
   "metadata": {},
   "outputs": [],
   "source": [
    "# Evaluate the distance structure of the individual clusters considering the neighborhood of each sample\n",
    "from sklearn.neighbors import NearestNeighbors\n",
    "import seaborn as sns\n",
    "import collections\n",
    "from collections import Counter\n",
    "\n",
    "def show_pmi(df_merged,feature):\n",
    "    #feature = 'BRCA_Subtype_PAM50'\n",
    "\n",
    "    dff = df_merged[['x','y',feature]]\n",
    "    X = dff[['x','y']].to_numpy()\n",
    "    nbrs = NearestNeighbors(n_neighbors=10, algorithm='ball_tree').fit(X)\n",
    "    distances, indices = nbrs.kneighbors(X)\n",
    "\n",
    "# Create a dataframe with inter-subtypes proximity countings\n",
    "\n",
    "    inter_types_df = pd.DataFrame()\n",
    "    for idx in range(indices.shape[0]):\n",
    "        list_of_types = [ dff[feature].to_list()[i] for i in list(indices[idx]) ]\n",
    "        source = list_of_types[0]\n",
    "        c = Counter(list_of_types)\n",
    "        df = pd.DataFrame.from_dict(c, orient='index').reset_index()\n",
    "        df = df.rename(columns={'index':'target', 0:'count'}) \n",
    "        df['source'] = df.shape[0]*[source] # add the source tissue column\n",
    "        inter_types_df = inter_types_df.append(df)\n",
    "\n",
    "    pv_data = pd.pivot_table(inter_types_df, index=[\"source\"], columns=[\"target\"], values=[\"count\"], aggfunc=np.sum)\n",
    "\n",
    "    c = Counter(dff[feature].to_list())\n",
    "    df_pmi = pd.DataFrame()\n",
    "    set1 = {s for s in set(inter_types_df.source) if s==s}\n",
    "    set2 = {t for t in set(inter_types_df.target) if t==t}\n",
    "    for s in set1:\n",
    "        for t in set2:\n",
    "            num = pv_data.loc[s,('count', t)]\n",
    "            den = c[s]*c[t]\n",
    "            pmi = np.log(dff.shape[0]*num/den) # the cooccurrence is evaluated using an analogue of the pointwise mutual information\n",
    "            df0 = pd.DataFrame([[s,t,num,c[s],c[t],pmi]], \n",
    "                           columns=['source','target','cooccurence','source_count','target_count','pmi'])\n",
    "            df_pmi = df_pmi.append( df0 )\n",
    "\n",
    "\n",
    "# Plot the point-wise mutual information of the clusters\n",
    "    filename = 'PMI_'+str(feature)+'.10nn'\n",
    "\n",
    "    pv_pmi = df_pmi.pivot(index='source',columns='target',values='pmi')\n",
    "    plt.figure(figsize=(10,10))\n",
    "    ax = sns.heatmap(pv_pmi,annot=True, fmt=\".3\", cmap=\"Blues\")\n",
    "    ax.set_ylim([0,len(set1)])\n",
    "    ax.set_title(filename)\n",
    "    plt.savefig(filename+'.png')\n",
    "#df_pmi.to_csv(filename+'.csv')"
   ]
  },
  {
   "cell_type": "code",
   "execution_count": null,
   "metadata": {
    "scrolled": false
   },
   "outputs": [],
   "source": [
    "for feature in feature_set:\n",
    "    show_pmi(df_merged,feature) \n",
    "    print(feature)"
   ]
  },
  {
   "cell_type": "code",
   "execution_count": null,
   "metadata": {},
   "outputs": [],
   "source": []
  }
 ],
 "metadata": {
  "kernelspec": {
   "display_name": "Python 3",
   "language": "python",
   "name": "python3"
  },
  "language_info": {
   "codemirror_mode": {
    "name": "ipython",
    "version": 3
   },
   "file_extension": ".py",
   "mimetype": "text/x-python",
   "name": "python",
   "nbconvert_exporter": "python",
   "pygments_lexer": "ipython3",
   "version": "3.7.4"
  }
 },
 "nbformat": 4,
 "nbformat_minor": 2
}
