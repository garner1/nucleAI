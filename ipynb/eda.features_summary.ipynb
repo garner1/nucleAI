{
 "cells": [
  {
   "cell_type": "code",
   "execution_count": 1,
   "metadata": {},
   "outputs": [],
   "source": [
    "import sys  \n",
    "sys.path.insert(0, '../py')\n",
    "from graviti import *\n",
    "\n",
    "import json\n",
    "import numpy as np\n",
    "from matplotlib import pyplot as plt\n",
    "import glob\n",
    "import pandas as pd\n",
    "import os\n",
    "\n",
    "import timeit\n",
    "import multiprocessing\n",
    "from joblib import Parallel, delayed\n",
    "from datetime import datetime\n",
    "from tqdm import tqdm"
   ]
  },
  {
   "cell_type": "code",
   "execution_count": 4,
   "metadata": {},
   "outputs": [
    {
     "name": "stdout",
     "output_type": "stream",
     "text": [
      "There are 132 FOVs\n"
     ]
    }
   ],
   "source": [
    "data = glob.glob('/home/garner1/pipelines/nucleAI/data/TCGA-05-4244-01Z-00-DX1.d4ff32cd-38cf-40ea-8213-45c2b100ac01.svs.tar.gz/TCGA-05-4244-01Z-00-DX1.nuclei193780.numbCovd19378.freq10.covdNN50.features.pkl')\n",
    "\n",
    "print('There are '+str(len(fov))+' FOVs')"
   ]
  },
  {
   "cell_type": "code",
   "execution_count": 11,
   "metadata": {},
   "outputs": [
    {
     "name": "stdout",
     "output_type": "stream",
     "text": [
      "              area  eccentricity   orientation     perimeter      solidity  \\\n",
      "count  19378.00000  19378.000000  19378.000000  19378.000000  19378.000000   \n",
      "mean     683.42378      0.729011     -0.027273     99.679947      0.925765   \n",
      "std      571.86047      0.158160      0.928849     47.460817      0.063463   \n",
      "min       11.00000      0.036632     -1.570796      8.414214      0.461847   \n",
      "25%      300.00000      0.632057     -0.851319     69.112698      0.910337   \n",
      "50%      527.00000      0.753308     -0.039463     93.597980      0.947656   \n",
      "75%      917.00000      0.852889      0.780825    124.669048      0.965896   \n",
      "max    11826.00000      0.996470      1.570796    852.400108      1.000000   \n",
      "\n",
      "        circularity     covd  heterogeneity  \n",
      "count  19378.000000  19378.0   19378.000000  \n",
      "mean       0.777382      1.0       1.079743  \n",
      "std        0.153488      0.0       0.232818  \n",
      "min        0.155027      1.0       0.481406  \n",
      "25%        0.697510      1.0       0.913123  \n",
      "50%        0.804801      1.0       1.045997  \n",
      "75%        0.875362      1.0       1.216185  \n",
      "max        1.952430      1.0       2.212752  \n"
     ]
    }
   ],
   "source": [
    "for cantype in ['LUAD']:\n",
    "    for sample in glob.glob('/media/garner1/hdd2/.../LUAD/):\n",
    "        data = glob.glob(str(sample)+'/*.freq10.covdNN50.features.pkl')\n",
    "        print(pd.read_pickle(f).describe())"
   ]
  },
  {
   "cell_type": "code",
   "execution_count": null,
   "metadata": {
    "scrolled": false
   },
   "outputs": [],
   "source": [
    "for sample in samples[:]:\n",
    "    data = pd.DataFrame()\n",
    "    fovs = glob.glob(sample+'/*/*.svs/*.pkl')\n",
    "    for fov in fovs:\n",
    "        df = pd.read_pickle(fov)\n",
    "        data = data.append(df, ignore_index = True)\n",
    "    data['area'] = data['area'].astype(float)\n",
    "    print(sample)\n",
    "    print(data.shape)    \n",
    "    hist = data[data['area']<2000].hist(figsize=(10,10))\n",
    "    plt.show()"
   ]
  }
 ],
 "metadata": {
  "kernelspec": {
   "display_name": "Python 3",
   "language": "python",
   "name": "python3"
  },
  "language_info": {
   "codemirror_mode": {
    "name": "ipython",
    "version": 3
   },
   "file_extension": ".py",
   "mimetype": "text/x-python",
   "name": "python",
   "nbconvert_exporter": "python",
   "pygments_lexer": "ipython3",
   "version": "3.7.4"
  }
 },
 "nbformat": 4,
 "nbformat_minor": 2
}
