{
 "cells": [
  {
   "cell_type": "code",
   "execution_count": null,
   "metadata": {},
   "outputs": [],
   "source": [
    "import sys\n",
    "sys.path.insert(0, '../py')\n",
    "from graviti import *"
   ]
  },
  {
   "cell_type": "code",
   "execution_count": null,
   "metadata": {},
   "outputs": [],
   "source": [
    "import numpy as np\n",
    "import scipy as sp\n",
    "from scipy.sparse import coo_matrix\n",
    "import scipy.ndimage as ndi\n",
    "\n",
    "from skimage.draw import polygon\n",
    "from skimage import io\n",
    "from skimage.measure import label, regionprops\n",
    "import skimage.io\n",
    "import skimage.measure\n",
    "import skimage.color\n",
    "\n",
    "import glob\n",
    "import pickle\n",
    "import pandas as pd\n",
    "import os\n",
    "import timeit\n",
    "import random\n",
    "\n",
    "import pyvips"
   ]
  },
  {
   "cell_type": "code",
   "execution_count": null,
   "metadata": {},
   "outputs": [],
   "source": [
    "from __future__ import print_function\n",
    "\n",
    "import histomicstk as htk\n",
    "\n",
    "from matplotlib import pyplot as plt\n",
    "import matplotlib.patches as mpatches\n",
    "%matplotlib inline"
   ]
  },
  {
   "cell_type": "code",
   "execution_count": null,
   "metadata": {},
   "outputs": [],
   "source": [
    "import timeit\n",
    "import multiprocessing\n",
    "from joblib import Parallel, delayed\n",
    "from datetime import datetime\n",
    "from tqdm import tqdm"
   ]
  },
  {
   "cell_type": "code",
   "execution_count": null,
   "metadata": {},
   "outputs": [],
   "source": [
    "def make_mask_from_polygons(filename,x_list,y_list):\n",
    "    if not (x_list and y_list):\n",
    "        pass\n",
    "    else:\n",
    "        xx = np.array(x_list).reshape((len(x_list),1))\n",
    "        yy = np.array(y_list).reshape((len(y_list),1))\n",
    "\n",
    "        arr = np.hstack((xx,yy))\n",
    "\n",
    "        # subtract the min to translate the mask                                                                                                                                                                   \n",
    "        mini = np.min(arr,axis=0); arr -= mini\n",
    "\n",
    "        rr = np.rint(arr[:,1]).astype(int) # xs are cols                                                                                                                                                           \n",
    "        cc = np.rint(arr[:,0]).astype(int) # ys are rows                                                                                                                                                           \n",
    "        mtx = coo_matrix((np.ones(rr.shape), (rr, cc)), dtype=bool)\n",
    "        \n",
    "        #plt.figure(figsize=(40,40))\n",
    "        #io.imshow(mtx.todense(),cmap='gray')\n",
    "        #plt.savefig(filename+'.png')\n",
    "    return mtx.todense()"
   ]
  },
  {
   "cell_type": "code",
   "execution_count": null,
   "metadata": {},
   "outputs": [],
   "source": [
    "def get_nuclear_view(imInput,maska,z):\n",
    "    masked = np.multiply(imInput[:,:,z],maska)\n",
    "    norows = masked[~np.all(masked == 0, axis=1)] #remove 0 rows\n",
    "    arr = norows[:,~(norows == 0).all(0)] # remove 0 cols\n",
    "    return arr "
   ]
  },
  {
   "cell_type": "code",
   "execution_count": null,
   "metadata": {},
   "outputs": [],
   "source": [
    "# get the features \n",
    "# consider as features x,y,r,g,b,delta_x([r,g,b])+delta_y([r,g,b]),delta_xx([r,g,b])+delta_yy([r,g,b])\n",
    "def features_from_3d(arr_3d,color_dim): # color_dim is 0,1,2 for R,G,B\n",
    "    dx = np.array([[0.0,0,0.0],[-1.0,0,1.0],[0.0,0,0.0],])\n",
    "    dy = np.transpose(dx)\n",
    "    dxx = np.array([[0.0,0,0.0],[-1.0,2.0,-1.0],[0.0,0,0.0],])\n",
    "    dyy = np.transpose(dxx)\n",
    "\n",
    "    arr_2d = arr_3d[:,:,color_dim]\n",
    "    coo = coo_matrix(arr_2d)\n",
    "    \n",
    "    row = coo.row\n",
    "    col = coo.col\n",
    "        \n",
    "    delta_x = ndi.convolve(arr_2d,dx, output=np.float64, mode='nearest')\n",
    "    delta_y = ndi.convolve(arr_2d,dy, output=np.float64, mode='nearest')\n",
    "        \n",
    "    delta_xx = ndi.convolve(arr_2d,dxx, output=np.float64, mode='nearest')\n",
    "    delta_yy = ndi.convolve(arr_2d,dyy, output=np.float64, mode='nearest')\n",
    "    \n",
    "    return delta_x, delta_y, delta_xx, delta_yy"
   ]
  },
  {
   "cell_type": "code",
   "execution_count": null,
   "metadata": {},
   "outputs": [],
   "source": [
    "def parse_polygons_in_patch(filename):\n",
    "    x_list = []\n",
    "    y_list = []\n",
    "    df = pd.read_csv(filename)\n",
    "    if ~df.empty:\n",
    "        cell_list = df['Polygon'].tolist()\n",
    "        for cell in cell_list: # loop over cells in patch                                                                                                                                                          \n",
    "            lista = list(np.fromstring(cell[1:-1], dtype=float, sep=':')) #list of vertices in polygon                                                                                                             \n",
    "            cc = lista[0::2] # list of x coord of each polygon vertex                                                                                                                                              \n",
    "            rr = lista[1::2] # list of y coord of each polygon verted                                                                                                                                              \n",
    "            poly = np.asarray(list(zip(rr,cc)))\n",
    "            mini = np.min(poly,axis=0)\n",
    "            poly -= mini # subtract the min to translate the mask                                                                                                                                                  \n",
    "\n",
    "            # create the nuclear mask                                                                                                                                                                              \n",
    "            mask = np.zeros(tuple(np.ceil(np.max(poly,axis=0) - np.min(poly,axis=0)).astype(int)))\n",
    "            rr, cc = polygon(poly[:, 0], poly[:, 1], mask.shape) # get the nonzero mask locations                                                                                                                  \n",
    "            mask[rr, cc] = 1 # nonzero pixel entries                                                                                                                                                               \n",
    "            # rescale back to original coordinates                                                                                                                                                                 \n",
    "            rr = rr.astype(float);cc = cc.astype(float)\n",
    "            rr += mini[0]; cc += mini[1]\n",
    "\n",
    "            # update the list of nonzero pixel entries                                                                                                                                                             \n",
    "            x_list.extend( [int(n) for n in list(cc)] )\n",
    "            y_list.extend( [int(n) for n in list(rr)] )\n",
    "        mask = make_mask_from_polygons(filename,x_list,y_list)\n",
    "    return mask"
   ]
  },
  {
   "cell_type": "code",
   "execution_count": null,
   "metadata": {},
   "outputs": [],
   "source": [
    "def tile_from_svs(svs_filename,mask,x,y):\n",
    "    \n",
    "    format_to_dtype = {\n",
    "    'uchar': np.uint8,\n",
    "    'char': np.int8,\n",
    "    'ushort': np.uint16,\n",
    "    'short': np.int16,\n",
    "    'uint': np.uint32,\n",
    "    'int': np.int32,\n",
    "    'float': np.float32,\n",
    "    'double': np.float64,\n",
    "    'complex': np.complex64,\n",
    "    'dpcomplex': np.complex128,\n",
    "    }\n",
    "    \n",
    "    image = pyvips.Image.new_from_file(svs_filename)[0:3] # drop alpha channel\n",
    "    tile = image.crop(x,y,mask.shape[1],mask.shape[0])\n",
    "    np_3d = np.ndarray(buffer=tile.write_to_memory(),\n",
    "                       dtype=format_to_dtype[tile.format],\n",
    "                       shape=[tile.height, tile.width, tile.bands])\n",
    "    \n",
    "    #print(tile.height, tile.width, tile.bands, tile.format, tile.interpretation)\n",
    "    #tile.write_to_file(svs_filename+'.'+str(x)+'.'+str(y)+'.jpg[Q=100]') # save as jpg file\n",
    "    return np_3d"
   ]
  },
  {
   "cell_type": "code",
   "execution_count": null,
   "metadata": {
    "scrolled": false
   },
   "outputs": [],
   "source": [
    "def covd_rgb(l,labels,imInput,regions):\n",
    "    maska = labels == l # get the mask\n",
    "    if maska.nonzero()[0].shape[0] > 100: # condition on mask size to remove small nuclei\n",
    "        # Repeat over the third axis of the image\n",
    "        arr0 = get_nuclear_view(imInput,maska,0)\n",
    "        arr1 = get_nuclear_view(imInput,maska,1)\n",
    "        arr2 = get_nuclear_view(imInput,maska,2)\n",
    "\n",
    "        arr_3d = np.dstack((arr0,arr1,arr2))\n",
    "                \n",
    "                #plt.figure()\n",
    "                #plt.imshow(arr_3d)\n",
    "                #plt.savefig('./nucleus_'+str(l)+'.png')\n",
    "                \n",
    "        # get the features\n",
    "        delta_x_R, delta_y_R, delta_xx_R, delta_yy_R = features_from_3d(arr_3d,0)\n",
    "        delta_x_G, delta_y_G, delta_xx_G, delta_yy_G = features_from_3d(arr_3d,1)\n",
    "        delta_x_B, delta_y_B, delta_xx_B, delta_yy_B = features_from_3d(arr_3d,2)\n",
    "\n",
    "        delta_x = np.zeros((arr_3d.shape[0],arr_3d.shape[1]))\n",
    "        delta_xx = np.zeros((arr_3d.shape[0],arr_3d.shape[1]))\n",
    "        delta_y = np.zeros((arr_3d.shape[0],arr_3d.shape[1]))\n",
    "        delta_yy = np.zeros((arr_3d.shape[0],arr_3d.shape[1]))\n",
    "        for r in range(arr_3d.shape[0]):\n",
    "            for c in range(arr_3d.shape[1]):\n",
    "                delta_x[r,c] = np.sqrt(delta_x_R[r,c]**2+delta_x_G[r,c]**2+delta_x_B[r,c]**2)\n",
    "                delta_xx[r,c] = np.sqrt(delta_xx_R[r,c]**2+delta_xx_G[r,c]**2+delta_xx_B[r,c]**2)\n",
    "                delta_y[r,c] = np.sqrt(delta_y_R[r,c]**2+delta_y_G[r,c]**2+delta_y_B[r,c]**2)\n",
    "                delta_yy[r,c] = np.sqrt(delta_yy_R[r,c]**2+delta_yy_G[r,c]**2+delta_yy_B[r,c]**2)\n",
    "\n",
    "        feature_data = np.zeros((arr_3d.shape[0]*arr_3d.shape[1],9))\n",
    "        idx = 0\n",
    "        for r in range(arr_3d.shape[0]):\n",
    "            for c in range(arr_3d.shape[1]):\n",
    "                    feature_data[idx,:] = np.hstack((r,c,\n",
    "                                                    arr_3d[r,c,0],arr_3d[r,c,1],arr_3d[r,c,2],\n",
    "                                                    delta_x[r,c],delta_y[r,c],\n",
    "                                                    delta_xx[r,c],delta_yy[r,c]))\n",
    "                    idx += 1\n",
    "        return regions[l-1].centroid,feature_data # -1 because the list of regions is 0-based"
   ]
  },
  {
   "cell_type": "code",
   "execution_count": null,
   "metadata": {},
   "outputs": [],
   "source": [
    "patches = glob.glob('/home/garner1/pipelines/nucleAI/data/TCGA-05-4244-*.*.svs.tar.gz/luad_polygon/*/*.csv')"
   ]
  },
  {
   "cell_type": "code",
   "execution_count": null,
   "metadata": {},
   "outputs": [],
   "source": [
    "# Load the mask\n",
    "svs_filename = \"/home/garner1/pipelines/nucleAI/data/TCGA-05-4244-01Z-00-DX1.d4ff32cd-38cf-40ea-8213-45c2b100ac01.svs\"\n",
    "\n",
    "num_cores = multiprocessing.cpu_count() # numb of cores\n",
    "\n",
    "for patch in patches[:2]:\n",
    "    patch_name = patch.split('/')[9:]\n",
    "    if not pd.read_csv(patch).empty: \n",
    "        print('The patch is not empty',patch_name[0])\n",
    "        x = patch_name[0].split('_')[0]\n",
    "        y = patch_name[0].split('_')[1]\n",
    "        #print(x,y)\n",
    "        #plt.imshow(imInput)\n",
    "        mask = parse_polygons_in_patch(patch)\n",
    "        \n",
    "        labels, num = label(mask, return_num=True, connectivity=1) # connectivity has to be 1 otherwise different mask are placed together\n",
    "        regions = regionprops(labels)\n",
    "        \n",
    "        imInput = tile_from_svs(svs_filename,mask,x,y)\n",
    "        \n",
    "        generated_covds = Parallel(n_jobs=num_cores)(delayed(covd_rgb)(l, labels,imInput,regions) \n",
    "                                                     for l in tqdm([r.label for r in regions]))\n",
    "        filename = patch+'.intensity_features.pkl' # name of the intensity features output file\n",
    "        outfile = open(filename,'wb')\n",
    "        pickle.dump(generated_covds,outfile)\n",
    "        outfile.close()"
   ]
  },
  {
   "cell_type": "code",
   "execution_count": null,
   "metadata": {},
   "outputs": [],
   "source": [
    "infile = open(filename,'rb')\n",
    "intensity_features = pickle.load(infile)\n",
    "infile.close()"
   ]
  },
  {
   "cell_type": "code",
   "execution_count": null,
   "metadata": {},
   "outputs": [],
   "source": [
    "[f[1] for f in intensity_features if f is not None]"
   ]
  },
  {
   "cell_type": "code",
   "execution_count": null,
   "metadata": {},
   "outputs": [],
   "source": [
    "data = np.array([np.real(sp.linalg.logm(np.cov(f[1],rowvar=False))).flatten() for f in intensity_features if f is not None])\n",
    "print(data.shape)\n",
    "\n",
    "centroids =  np.array([f[0] for f in intensity_features if f is not None])\n",
    "print(centroids)"
   ]
  },
  {
   "cell_type": "code",
   "execution_count": null,
   "metadata": {},
   "outputs": [],
   "source": [
    "import umap\n",
    "reducer = umap.UMAP(n_components=2,min_dist=0,n_neighbors=10)\n",
    "embedding = reducer.fit_transform(data)\n",
    "x = embedding[:,0]\n",
    "y = embedding[:,1]\n",
    "df_plot = pd.DataFrame(dict(x=x, y=y))\n",
    "import seaborn as sns; sns.set()\n",
    "fig, ax = plt.subplots(figsize=(10,10))\n",
    "ax = sns.scatterplot(x=\"x\", y=\"y\", data=df_plot)"
   ]
  },
  {
   "cell_type": "code",
   "execution_count": null,
   "metadata": {},
   "outputs": [],
   "source": []
  },
  {
   "cell_type": "code",
   "execution_count": null,
   "metadata": {},
   "outputs": [],
   "source": []
  },
  {
   "cell_type": "code",
   "execution_count": null,
   "metadata": {},
   "outputs": [],
   "source": [
    "feature_data = np.zeros((arr_3d.shape[0]*arr_3d.shape[1],9))\n",
    "idx = 0\n",
    "for r in range(arr_3d.shape[0]):\n",
    "    for c in range(arr_3d.shape[1]):\n",
    "        feature_data[idx,:] = np.hstack((r,c,\n",
    "                                    arr_3d[r,c,0],arr_3d[r,c,1],arr_3d[r,c,2],\n",
    "                                    delta_x[r,c],delta_y[r,c],\n",
    "                                    delta_xx[r,c],delta_yy[r,c]))\n",
    "        idx += 1\n",
    "\n",
    "print(np.corrcoef(feature_data,rowvar=False)) # get the normalized covariace matrix\n",
    "print(np.cov(feature_data,rowvar=False)) # get the covariace matrix"
   ]
  },
  {
   "cell_type": "code",
   "execution_count": null,
   "metadata": {
    "scrolled": false
   },
   "outputs": [],
   "source": [
    "# create stain to color map\n",
    "stain_color_map = htk.preprocessing.color_deconvolution.stain_color_map\n",
    "print('stain_color_map:', stain_color_map, sep='\\n')\n",
    "\n",
    "# specify stains of input image\n",
    "stains = ['hematoxylin',  # nuclei stain\n",
    "          'eosin',        # cytoplasm stain\n",
    "          'null']         # set to null if input contains only two stains\n",
    "\n",
    "# create stain matrix\n",
    "W = np.array([stain_color_map[st] for st in stains]).T\n",
    "\n",
    "# perform standard color deconvolution\n",
    "imDeconvolved = htk.preprocessing.color_deconvolution.color_deconvolution(imInput, W)\n",
    "\n",
    "# Display results\n",
    "for i in [0]:#, 1:\n",
    "    plt.figure()\n",
    "    plt.imshow(imDeconvolved.Stains[:, :, i])\n",
    "    _ = plt.title(stains[i], fontsize=titlesize)"
   ]
  },
  {
   "cell_type": "code",
   "execution_count": null,
   "metadata": {},
   "outputs": [],
   "source": [
    "plt.figure()\n",
    "masked = np.multiply(imDeconvolved.Stains[:, :, 0],~mask)\n",
    "plt.imshow(masked>1)"
   ]
  }
 ],
 "metadata": {
  "kernelspec": {
   "display_name": "Python 3",
   "language": "python",
   "name": "python3"
  },
  "language_info": {
   "codemirror_mode": {
    "name": "ipython",
    "version": 3
   },
   "file_extension": ".py",
   "mimetype": "text/x-python",
   "name": "python",
   "nbconvert_exporter": "python",
   "pygments_lexer": "ipython3",
   "version": "3.7.4"
  }
 },
 "nbformat": 4,
 "nbformat_minor": 2
}
